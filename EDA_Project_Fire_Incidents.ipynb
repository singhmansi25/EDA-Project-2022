{
  "nbformat": 4,
  "nbformat_minor": 0,
  "metadata": {
    "colab": {
      "provenance": [],
      "collapsed_sections": [
        "ggS4nziXJ2gp",
        "yrCH-NzPKJhG",
        "jh3kQjGPLmjo",
        "9RKwryGPMY40",
        "UxMMySkrM3by",
        "tyy47lQeM77C",
        "1ioO6qrUNcsC"
      ],
      "mount_file_id": "1U-Q3_mwtTSYEFYgNjH0tP40kEtyNoScw",
      "authorship_tag": "ABX9TyPOWqM/vSAQwzupcMZDfWQM",
      "include_colab_link": true
    },
    "kernelspec": {
      "name": "python3",
      "display_name": "Python 3"
    },
    "language_info": {
      "name": "python"
    }
  },
  "cells": [
    {
      "cell_type": "markdown",
      "metadata": {
        "id": "view-in-github",
        "colab_type": "text"
      },
      "source": [
        "<a href=\"https://colab.research.google.com/github/singhmansi25/Fire-Incidents-Analysis-Project/blob/main/EDA_Project_Fire_Incidents.ipynb\" target=\"_parent\"><img src=\"https://colab.research.google.com/assets/colab-badge.svg\" alt=\"Open In Colab\"/></a>"
      ]
    },
    {
      "cell_type": "markdown",
      "source": [
        "## **Importing Required Libraries**"
      ],
      "metadata": {
        "id": "ggS4nziXJ2gp"
      }
    },
    {
      "cell_type": "code",
      "execution_count": 1,
      "metadata": {
        "id": "N57rU9hNJp0o"
      },
      "outputs": [],
      "source": [
        "# library used for data manipulation & analysis \n",
        "import pandas as pd   \n",
        "# library used for working with arrays & linear algebra\n",
        "import numpy as np\n",
        "# library used for data visualisation \n",
        "import seaborn as sns\n",
        "import matplotlib.pyplot as plt\n",
        "%matplotlib inline\n",
        "from matplotlib import rcParams\n",
        "# library used for statistics & mathematical calculation\n",
        "import statistics\n",
        "import scipy.stats as stats\n",
        "# library used for date time conversion\n",
        "from datetime import datetime"
      ]
    },
    {
      "cell_type": "markdown",
      "source": [
        "## **Loading the Dataset**"
      ],
      "metadata": {
        "id": "yrCH-NzPKJhG"
      }
    },
    {
      "cell_type": "code",
      "source": [
        "fire_df = pd.read_csv('/content/drive/MyDrive/Fire-Incidents.csv')"
      ],
      "metadata": {
        "id": "bCAM7YraKHyf"
      },
      "execution_count": 2,
      "outputs": []
    },
    {
      "cell_type": "markdown",
      "source": [
        "## **Reading the Dataset**"
      ],
      "metadata": {
        "id": "jh3kQjGPLmjo"
      }
    },
    {
      "cell_type": "code",
      "source": [
        "# reading first 5 rows of dataset\n",
        "fire_df.head()"
      ],
      "metadata": {
        "colab": {
          "base_uri": "https://localhost:8080/",
          "height": 0
        },
        "id": "3JCLK8-oKV0r",
        "outputId": "4eab26d4-6527-477f-eeb3-20973d2b8904"
      },
      "execution_count": 3,
      "outputs": [
        {
          "output_type": "execute_result",
          "data": {
            "text/plain": [
              "                                      Area_of_Origin  \\\n",
              "0                                   Porch or Balcony   \n",
              "1                            Cooking Area or Kitchen   \n",
              "2     Living Area (e.g. living, TV, recreation, etc)   \n",
              "3                        Undetermined  (formerly 98)   \n",
              "4  Sleeping Area or Bedroom (inc. patients room, ...   \n",
              "\n",
              "                   Business_Impact  Civilian_Casualties  \\\n",
              "0         No business interruption                    0   \n",
              "1                     Undetermined                    0   \n",
              "2  Not applicable (not a business)                    1   \n",
              "3        May not resume operations                    0   \n",
              "4  Not applicable (not a business)                    8   \n",
              "\n",
              "   Count_of_Persons_Rescued  Estimated_Dollar_Loss  \\\n",
              "0                        86                   3000   \n",
              "1                        28                  50000   \n",
              "2                        16                1000000   \n",
              "3                        12                1000000   \n",
              "4                        11                 125000   \n",
              "\n",
              "   Estimated_Number_Of_Persons_Displaced Ext_agent_app_or_defer_time  \\\n",
              "0                                      0         2018-08-24T17:06:26   \n",
              "1                                     28         2018-11-24T07:19:00   \n",
              "2                                    130         2017-02-09T18:02:13   \n",
              "3                                     14         2012-10-30T00:52:04   \n",
              "4                                      2         2018-07-08T04:35:00   \n",
              "\n",
              "                             Extent_Of_Fire  \\\n",
              "0              Confined to object of origin   \n",
              "1   Confined to part of room/area of origin   \n",
              "2  Spread beyond room of origin, same floor   \n",
              "3                          Entire Structure   \n",
              "4  Spread beyond room of origin, same floor   \n",
              "\n",
              "              Fire_Alarm_System_Impact_on_Evacuation  \\\n",
              "0  Not applicable: Occupant(s) first alerted by o...   \n",
              "1  Not applicable: Occupant(s) first alerted by o...   \n",
              "2  Some persons (at risk) evacuated as a result o...   \n",
              "3                                       Undetermined   \n",
              "4  Some persons (at risk) evacuated as a result o...   \n",
              "\n",
              "                Fire_Alarm_System_Operation  ...  Longitude  \\\n",
              "0         Fire alarm system did not operate  ... -79.412479   \n",
              "1                Fire alarm system operated  ... -79.530419   \n",
              "2                Fire alarm system operated  ... -79.373460   \n",
              "3  Fire alarm system operation undetermined  ... -79.393700   \n",
              "4                Fire alarm system operated  ... -79.511539   \n",
              "\n",
              "       Material_First_Ignited           Method_Of_Fire_Control  \\\n",
              "0  Undetermined (formerly 98)  Extinguished by fire department   \n",
              "1                     Plastic         Extinguished by occupant   \n",
              "2  Undetermined (formerly 98)  Extinguished by fire department   \n",
              "3  Undetermined (formerly 98)  Extinguished by fire department   \n",
              "4                     Bedding  Extinguished by fire department   \n",
              "\n",
              "        Possible_Cause                         Property_Use  \\\n",
              "0         Undetermined  Multi-Unit Dwelling - Over 12 Units   \n",
              "1  Under Investigation                            Infirmary   \n",
              "2         Undetermined  Multi-Unit Dwelling - Over 12 Units   \n",
              "3         Undetermined     Clothing Store, Accessories, fur   \n",
              "4      Suspected Arson  Multi-Unit Dwelling - Over 12 Units   \n",
              "\n",
              "            Smoke_Alarm_at_Fire_Origin_Alarm_Failure  \\\n",
              "0  Not applicable: Alarm operated OR presence/ope...   \n",
              "1  Not applicable: Alarm operated OR presence/ope...   \n",
              "2  Not applicable: Alarm operated OR presence/ope...   \n",
              "3  Not applicable: Alarm operated OR presence/ope...   \n",
              "4  Not applicable: Alarm operated OR presence/ope...   \n",
              "\n",
              "   Smoke_Alarm_at_Fire_Origin_Alarm_Type  \\\n",
              "0                 Hardwired (standalone)   \n",
              "1                         Interconnected   \n",
              "2                 Hardwired (standalone)   \n",
              "3                      Type undetermined   \n",
              "4                         Interconnected   \n",
              "\n",
              "                           Status_of_Fire_On_Arrival       TFS_Alarm_Time  \\\n",
              "0  Fire with smoke showing only - including vehic...  2018-08-24T16:49:36   \n",
              "1                 Fire extinguished prior to arrival  2018-11-24T07:09:12   \n",
              "2  Flames showing from small area (one storey or ...  2017-02-09T17:45:07   \n",
              "3  Flames showing from large area (more than one ...  2012-10-30T00:42:01   \n",
              "4                  Fire with no evidence from street  2018-07-08T04:08:50   \n",
              "\n",
              "      TFS_Arrival_Time  \n",
              "0  2018-08-24T16:54:09  \n",
              "1  2018-11-24T07:14:23  \n",
              "2  2017-02-09T17:48:49  \n",
              "3  2012-10-30T00:44:58  \n",
              "4  2018-07-08T04:13:54  \n",
              "\n",
              "[5 rows x 27 columns]"
            ],
            "text/html": [
              "\n",
              "  <div id=\"df-ad95f861-62e4-4b55-b182-4f30e4e40bb2\">\n",
              "    <div class=\"colab-df-container\">\n",
              "      <div>\n",
              "<style scoped>\n",
              "    .dataframe tbody tr th:only-of-type {\n",
              "        vertical-align: middle;\n",
              "    }\n",
              "\n",
              "    .dataframe tbody tr th {\n",
              "        vertical-align: top;\n",
              "    }\n",
              "\n",
              "    .dataframe thead th {\n",
              "        text-align: right;\n",
              "    }\n",
              "</style>\n",
              "<table border=\"1\" class=\"dataframe\">\n",
              "  <thead>\n",
              "    <tr style=\"text-align: right;\">\n",
              "      <th></th>\n",
              "      <th>Area_of_Origin</th>\n",
              "      <th>Business_Impact</th>\n",
              "      <th>Civilian_Casualties</th>\n",
              "      <th>Count_of_Persons_Rescued</th>\n",
              "      <th>Estimated_Dollar_Loss</th>\n",
              "      <th>Estimated_Number_Of_Persons_Displaced</th>\n",
              "      <th>Ext_agent_app_or_defer_time</th>\n",
              "      <th>Extent_Of_Fire</th>\n",
              "      <th>Fire_Alarm_System_Impact_on_Evacuation</th>\n",
              "      <th>Fire_Alarm_System_Operation</th>\n",
              "      <th>...</th>\n",
              "      <th>Longitude</th>\n",
              "      <th>Material_First_Ignited</th>\n",
              "      <th>Method_Of_Fire_Control</th>\n",
              "      <th>Possible_Cause</th>\n",
              "      <th>Property_Use</th>\n",
              "      <th>Smoke_Alarm_at_Fire_Origin_Alarm_Failure</th>\n",
              "      <th>Smoke_Alarm_at_Fire_Origin_Alarm_Type</th>\n",
              "      <th>Status_of_Fire_On_Arrival</th>\n",
              "      <th>TFS_Alarm_Time</th>\n",
              "      <th>TFS_Arrival_Time</th>\n",
              "    </tr>\n",
              "  </thead>\n",
              "  <tbody>\n",
              "    <tr>\n",
              "      <th>0</th>\n",
              "      <td>Porch or Balcony</td>\n",
              "      <td>No business interruption</td>\n",
              "      <td>0</td>\n",
              "      <td>86</td>\n",
              "      <td>3000</td>\n",
              "      <td>0</td>\n",
              "      <td>2018-08-24T17:06:26</td>\n",
              "      <td>Confined to object of origin</td>\n",
              "      <td>Not applicable: Occupant(s) first alerted by o...</td>\n",
              "      <td>Fire alarm system did not operate</td>\n",
              "      <td>...</td>\n",
              "      <td>-79.412479</td>\n",
              "      <td>Undetermined (formerly 98)</td>\n",
              "      <td>Extinguished by fire department</td>\n",
              "      <td>Undetermined</td>\n",
              "      <td>Multi-Unit Dwelling - Over 12 Units</td>\n",
              "      <td>Not applicable: Alarm operated OR presence/ope...</td>\n",
              "      <td>Hardwired (standalone)</td>\n",
              "      <td>Fire with smoke showing only - including vehic...</td>\n",
              "      <td>2018-08-24T16:49:36</td>\n",
              "      <td>2018-08-24T16:54:09</td>\n",
              "    </tr>\n",
              "    <tr>\n",
              "      <th>1</th>\n",
              "      <td>Cooking Area or Kitchen</td>\n",
              "      <td>Undetermined</td>\n",
              "      <td>0</td>\n",
              "      <td>28</td>\n",
              "      <td>50000</td>\n",
              "      <td>28</td>\n",
              "      <td>2018-11-24T07:19:00</td>\n",
              "      <td>Confined to part of room/area of origin</td>\n",
              "      <td>Not applicable: Occupant(s) first alerted by o...</td>\n",
              "      <td>Fire alarm system operated</td>\n",
              "      <td>...</td>\n",
              "      <td>-79.530419</td>\n",
              "      <td>Plastic</td>\n",
              "      <td>Extinguished by occupant</td>\n",
              "      <td>Under Investigation</td>\n",
              "      <td>Infirmary</td>\n",
              "      <td>Not applicable: Alarm operated OR presence/ope...</td>\n",
              "      <td>Interconnected</td>\n",
              "      <td>Fire extinguished prior to arrival</td>\n",
              "      <td>2018-11-24T07:09:12</td>\n",
              "      <td>2018-11-24T07:14:23</td>\n",
              "    </tr>\n",
              "    <tr>\n",
              "      <th>2</th>\n",
              "      <td>Living Area (e.g. living, TV, recreation, etc)</td>\n",
              "      <td>Not applicable (not a business)</td>\n",
              "      <td>1</td>\n",
              "      <td>16</td>\n",
              "      <td>1000000</td>\n",
              "      <td>130</td>\n",
              "      <td>2017-02-09T18:02:13</td>\n",
              "      <td>Spread beyond room of origin, same floor</td>\n",
              "      <td>Some persons (at risk) evacuated as a result o...</td>\n",
              "      <td>Fire alarm system operated</td>\n",
              "      <td>...</td>\n",
              "      <td>-79.373460</td>\n",
              "      <td>Undetermined (formerly 98)</td>\n",
              "      <td>Extinguished by fire department</td>\n",
              "      <td>Undetermined</td>\n",
              "      <td>Multi-Unit Dwelling - Over 12 Units</td>\n",
              "      <td>Not applicable: Alarm operated OR presence/ope...</td>\n",
              "      <td>Hardwired (standalone)</td>\n",
              "      <td>Flames showing from small area (one storey or ...</td>\n",
              "      <td>2017-02-09T17:45:07</td>\n",
              "      <td>2017-02-09T17:48:49</td>\n",
              "    </tr>\n",
              "    <tr>\n",
              "      <th>3</th>\n",
              "      <td>Undetermined  (formerly 98)</td>\n",
              "      <td>May not resume operations</td>\n",
              "      <td>0</td>\n",
              "      <td>12</td>\n",
              "      <td>1000000</td>\n",
              "      <td>14</td>\n",
              "      <td>2012-10-30T00:52:04</td>\n",
              "      <td>Entire Structure</td>\n",
              "      <td>Undetermined</td>\n",
              "      <td>Fire alarm system operation undetermined</td>\n",
              "      <td>...</td>\n",
              "      <td>-79.393700</td>\n",
              "      <td>Undetermined (formerly 98)</td>\n",
              "      <td>Extinguished by fire department</td>\n",
              "      <td>Undetermined</td>\n",
              "      <td>Clothing Store, Accessories, fur</td>\n",
              "      <td>Not applicable: Alarm operated OR presence/ope...</td>\n",
              "      <td>Type undetermined</td>\n",
              "      <td>Flames showing from large area (more than one ...</td>\n",
              "      <td>2012-10-30T00:42:01</td>\n",
              "      <td>2012-10-30T00:44:58</td>\n",
              "    </tr>\n",
              "    <tr>\n",
              "      <th>4</th>\n",
              "      <td>Sleeping Area or Bedroom (inc. patients room, ...</td>\n",
              "      <td>Not applicable (not a business)</td>\n",
              "      <td>8</td>\n",
              "      <td>11</td>\n",
              "      <td>125000</td>\n",
              "      <td>2</td>\n",
              "      <td>2018-07-08T04:35:00</td>\n",
              "      <td>Spread beyond room of origin, same floor</td>\n",
              "      <td>Some persons (at risk) evacuated as a result o...</td>\n",
              "      <td>Fire alarm system operated</td>\n",
              "      <td>...</td>\n",
              "      <td>-79.511539</td>\n",
              "      <td>Bedding</td>\n",
              "      <td>Extinguished by fire department</td>\n",
              "      <td>Suspected Arson</td>\n",
              "      <td>Multi-Unit Dwelling - Over 12 Units</td>\n",
              "      <td>Not applicable: Alarm operated OR presence/ope...</td>\n",
              "      <td>Interconnected</td>\n",
              "      <td>Fire with no evidence from street</td>\n",
              "      <td>2018-07-08T04:08:50</td>\n",
              "      <td>2018-07-08T04:13:54</td>\n",
              "    </tr>\n",
              "  </tbody>\n",
              "</table>\n",
              "<p>5 rows × 27 columns</p>\n",
              "</div>\n",
              "      <button class=\"colab-df-convert\" onclick=\"convertToInteractive('df-ad95f861-62e4-4b55-b182-4f30e4e40bb2')\"\n",
              "              title=\"Convert this dataframe to an interactive table.\"\n",
              "              style=\"display:none;\">\n",
              "        \n",
              "  <svg xmlns=\"http://www.w3.org/2000/svg\" height=\"24px\"viewBox=\"0 0 24 24\"\n",
              "       width=\"24px\">\n",
              "    <path d=\"M0 0h24v24H0V0z\" fill=\"none\"/>\n",
              "    <path d=\"M18.56 5.44l.94 2.06.94-2.06 2.06-.94-2.06-.94-.94-2.06-.94 2.06-2.06.94zm-11 1L8.5 8.5l.94-2.06 2.06-.94-2.06-.94L8.5 2.5l-.94 2.06-2.06.94zm10 10l.94 2.06.94-2.06 2.06-.94-2.06-.94-.94-2.06-.94 2.06-2.06.94z\"/><path d=\"M17.41 7.96l-1.37-1.37c-.4-.4-.92-.59-1.43-.59-.52 0-1.04.2-1.43.59L10.3 9.45l-7.72 7.72c-.78.78-.78 2.05 0 2.83L4 21.41c.39.39.9.59 1.41.59.51 0 1.02-.2 1.41-.59l7.78-7.78 2.81-2.81c.8-.78.8-2.07 0-2.86zM5.41 20L4 18.59l7.72-7.72 1.47 1.35L5.41 20z\"/>\n",
              "  </svg>\n",
              "      </button>\n",
              "      \n",
              "  <style>\n",
              "    .colab-df-container {\n",
              "      display:flex;\n",
              "      flex-wrap:wrap;\n",
              "      gap: 12px;\n",
              "    }\n",
              "\n",
              "    .colab-df-convert {\n",
              "      background-color: #E8F0FE;\n",
              "      border: none;\n",
              "      border-radius: 50%;\n",
              "      cursor: pointer;\n",
              "      display: none;\n",
              "      fill: #1967D2;\n",
              "      height: 32px;\n",
              "      padding: 0 0 0 0;\n",
              "      width: 32px;\n",
              "    }\n",
              "\n",
              "    .colab-df-convert:hover {\n",
              "      background-color: #E2EBFA;\n",
              "      box-shadow: 0px 1px 2px rgba(60, 64, 67, 0.3), 0px 1px 3px 1px rgba(60, 64, 67, 0.15);\n",
              "      fill: #174EA6;\n",
              "    }\n",
              "\n",
              "    [theme=dark] .colab-df-convert {\n",
              "      background-color: #3B4455;\n",
              "      fill: #D2E3FC;\n",
              "    }\n",
              "\n",
              "    [theme=dark] .colab-df-convert:hover {\n",
              "      background-color: #434B5C;\n",
              "      box-shadow: 0px 1px 3px 1px rgba(0, 0, 0, 0.15);\n",
              "      filter: drop-shadow(0px 1px 2px rgba(0, 0, 0, 0.3));\n",
              "      fill: #FFFFFF;\n",
              "    }\n",
              "  </style>\n",
              "\n",
              "      <script>\n",
              "        const buttonEl =\n",
              "          document.querySelector('#df-ad95f861-62e4-4b55-b182-4f30e4e40bb2 button.colab-df-convert');\n",
              "        buttonEl.style.display =\n",
              "          google.colab.kernel.accessAllowed ? 'block' : 'none';\n",
              "\n",
              "        async function convertToInteractive(key) {\n",
              "          const element = document.querySelector('#df-ad95f861-62e4-4b55-b182-4f30e4e40bb2');\n",
              "          const dataTable =\n",
              "            await google.colab.kernel.invokeFunction('convertToInteractive',\n",
              "                                                     [key], {});\n",
              "          if (!dataTable) return;\n",
              "\n",
              "          const docLinkHtml = 'Like what you see? Visit the ' +\n",
              "            '<a target=\"_blank\" href=https://colab.research.google.com/notebooks/data_table.ipynb>data table notebook</a>'\n",
              "            + ' to learn more about interactive tables.';\n",
              "          element.innerHTML = '';\n",
              "          dataTable['output_type'] = 'display_data';\n",
              "          await google.colab.output.renderOutput(dataTable, element);\n",
              "          const docLink = document.createElement('div');\n",
              "          docLink.innerHTML = docLinkHtml;\n",
              "          element.appendChild(docLink);\n",
              "        }\n",
              "      </script>\n",
              "    </div>\n",
              "  </div>\n",
              "  "
            ]
          },
          "metadata": {},
          "execution_count": 3
        }
      ]
    },
    {
      "cell_type": "code",
      "source": [
        "# reading last 5 rows of dataset\n",
        "fire_df.tail()"
      ],
      "metadata": {
        "colab": {
          "base_uri": "https://localhost:8080/",
          "height": 0
        },
        "id": "g-lHBCdTLor8",
        "outputId": "e46e9b1e-8cdd-4f1b-981b-cc49fbe8e1ca"
      },
      "execution_count": 4,
      "outputs": [
        {
          "output_type": "execute_result",
          "data": {
            "text/plain": [
              "                                          Area_of_Origin  \\\n",
              "11209  Trash, Rubbish Storage (inc garbage chute room...   \n",
              "11210                                 Other Storage Area   \n",
              "11211                                 Other Storage Area   \n",
              "11212                                   Porch or Balcony   \n",
              "11213  Trash, Rubbish Storage (inc garbage chute room...   \n",
              "\n",
              "                       Business_Impact  Civilian_Casualties  \\\n",
              "11209         No business interruption                    0   \n",
              "11210         No business interruption                    0   \n",
              "11211         No business interruption                    0   \n",
              "11212  Not applicable (not a business)                    6   \n",
              "11213         No business interruption                    0   \n",
              "\n",
              "       Count_of_Persons_Rescued  Estimated_Dollar_Loss  \\\n",
              "11209                         0                      0   \n",
              "11210                         0                   1000   \n",
              "11211                         0                      0   \n",
              "11212                         0                 100000   \n",
              "11213                         0                    100   \n",
              "\n",
              "       Estimated_Number_Of_Persons_Displaced Ext_agent_app_or_defer_time  \\\n",
              "11209                                      0         2018-02-23T14:41:51   \n",
              "11210                                      0         2018-02-24T01:42:03   \n",
              "11211                                      0         2018-02-24T02:40:00   \n",
              "11212                                      1         2018-02-24T00:44:00   \n",
              "11213                                      0         2018-02-24T08:33:18   \n",
              "\n",
              "                                Extent_Of_Fire  \\\n",
              "11209             Confined to object of origin   \n",
              "11210             Confined to object of origin   \n",
              "11211             Confined to object of origin   \n",
              "11212  Confined to part of room/area of origin   \n",
              "11213             Confined to object of origin   \n",
              "\n",
              "                  Fire_Alarm_System_Impact_on_Evacuation  \\\n",
              "11209  All persons (at risk of injury) evacuated as a...   \n",
              "11210  All persons (at risk of injury) evacuated as a...   \n",
              "11211  All persons (at risk of injury) evacuated as a...   \n",
              "11212  All persons (at risk of injury) evacuated as a...   \n",
              "11213  Not applicable: Occupant(s) first alerted by o...   \n",
              "\n",
              "             Fire_Alarm_System_Operation  ...  Longitude  \\\n",
              "11209         Fire alarm system operated  ... -79.373778   \n",
              "11210         Fire alarm system operated  ... -79.280725   \n",
              "11211         Fire alarm system operated  ... -79.280725   \n",
              "11212         Fire alarm system operated  ... -79.500863   \n",
              "11213  Fire alarm system did not operate  ... -79.589233   \n",
              "\n",
              "             Material_First_Ignited            Method_Of_Fire_Control  \\\n",
              "11209         Rubbish, Trash, Waste  Extinguished by automatic system   \n",
              "11210    Undetermined (formerly 98)          Extinguished by occupant   \n",
              "11211  Electrical Wiring Insulation          Extinguished by occupant   \n",
              "11212              Paper, Cardboard   Extinguished by fire department   \n",
              "11213         Rubbish, Trash, Waste   Extinguished by fire department   \n",
              "\n",
              "                                  Possible_Cause  \\\n",
              "11209                       Improperly Discarded   \n",
              "11210                         Electrical Failure   \n",
              "11211  Other unintentional cause, not classified   \n",
              "11212                       Improperly Discarded   \n",
              "11213                       Improperly Discarded   \n",
              "\n",
              "                              Property_Use  \\\n",
              "11209  Multi-Unit Dwelling - Over 12 Units   \n",
              "11210              General Business Office   \n",
              "11211              General Business Office   \n",
              "11212  Multi-Unit Dwelling - Over 12 Units   \n",
              "11213                       Hardware Store   \n",
              "\n",
              "                Smoke_Alarm_at_Fire_Origin_Alarm_Failure  \\\n",
              "11209  Not applicable: Alarm operated OR presence/ope...   \n",
              "11210  Not applicable: Alarm operated OR presence/ope...   \n",
              "11211  Not applicable: Alarm operated OR presence/ope...   \n",
              "11212  Not applicable: Alarm operated OR presence/ope...   \n",
              "11213  Not applicable: Alarm operated OR presence/ope...   \n",
              "\n",
              "       Smoke_Alarm_at_Fire_Origin_Alarm_Type  \\\n",
              "11209                 Hardwired (standalone)   \n",
              "11210                         Interconnected   \n",
              "11211                         Interconnected   \n",
              "11212                       Battery operated   \n",
              "11213                      Type undetermined   \n",
              "\n",
              "                               Status_of_Fire_On_Arrival       TFS_Alarm_Time  \\\n",
              "11209                  Fire with no evidence from street  2018-02-23T14:35:03   \n",
              "11210                 Fire extinguished prior to arrival  2018-02-24T01:30:45   \n",
              "11211                 Fire extinguished prior to arrival  2018-02-24T02:30:33   \n",
              "11212  Flames showing from small area (one storey or ...  2018-02-24T00:34:12   \n",
              "11213                  Fire with no evidence from street  2018-02-24T08:22:30   \n",
              "\n",
              "          TFS_Arrival_Time  \n",
              "11209  2018-02-23T14:38:33  \n",
              "11210  2018-02-24T01:36:59  \n",
              "11211  2018-02-24T02:35:07  \n",
              "11212  2018-02-24T00:38:47  \n",
              "11213  2018-02-24T08:27:21  \n",
              "\n",
              "[5 rows x 27 columns]"
            ],
            "text/html": [
              "\n",
              "  <div id=\"df-9ccaeaf5-1def-4061-953d-1d40358223a5\">\n",
              "    <div class=\"colab-df-container\">\n",
              "      <div>\n",
              "<style scoped>\n",
              "    .dataframe tbody tr th:only-of-type {\n",
              "        vertical-align: middle;\n",
              "    }\n",
              "\n",
              "    .dataframe tbody tr th {\n",
              "        vertical-align: top;\n",
              "    }\n",
              "\n",
              "    .dataframe thead th {\n",
              "        text-align: right;\n",
              "    }\n",
              "</style>\n",
              "<table border=\"1\" class=\"dataframe\">\n",
              "  <thead>\n",
              "    <tr style=\"text-align: right;\">\n",
              "      <th></th>\n",
              "      <th>Area_of_Origin</th>\n",
              "      <th>Business_Impact</th>\n",
              "      <th>Civilian_Casualties</th>\n",
              "      <th>Count_of_Persons_Rescued</th>\n",
              "      <th>Estimated_Dollar_Loss</th>\n",
              "      <th>Estimated_Number_Of_Persons_Displaced</th>\n",
              "      <th>Ext_agent_app_or_defer_time</th>\n",
              "      <th>Extent_Of_Fire</th>\n",
              "      <th>Fire_Alarm_System_Impact_on_Evacuation</th>\n",
              "      <th>Fire_Alarm_System_Operation</th>\n",
              "      <th>...</th>\n",
              "      <th>Longitude</th>\n",
              "      <th>Material_First_Ignited</th>\n",
              "      <th>Method_Of_Fire_Control</th>\n",
              "      <th>Possible_Cause</th>\n",
              "      <th>Property_Use</th>\n",
              "      <th>Smoke_Alarm_at_Fire_Origin_Alarm_Failure</th>\n",
              "      <th>Smoke_Alarm_at_Fire_Origin_Alarm_Type</th>\n",
              "      <th>Status_of_Fire_On_Arrival</th>\n",
              "      <th>TFS_Alarm_Time</th>\n",
              "      <th>TFS_Arrival_Time</th>\n",
              "    </tr>\n",
              "  </thead>\n",
              "  <tbody>\n",
              "    <tr>\n",
              "      <th>11209</th>\n",
              "      <td>Trash, Rubbish Storage (inc garbage chute room...</td>\n",
              "      <td>No business interruption</td>\n",
              "      <td>0</td>\n",
              "      <td>0</td>\n",
              "      <td>0</td>\n",
              "      <td>0</td>\n",
              "      <td>2018-02-23T14:41:51</td>\n",
              "      <td>Confined to object of origin</td>\n",
              "      <td>All persons (at risk of injury) evacuated as a...</td>\n",
              "      <td>Fire alarm system operated</td>\n",
              "      <td>...</td>\n",
              "      <td>-79.373778</td>\n",
              "      <td>Rubbish, Trash, Waste</td>\n",
              "      <td>Extinguished by automatic system</td>\n",
              "      <td>Improperly Discarded</td>\n",
              "      <td>Multi-Unit Dwelling - Over 12 Units</td>\n",
              "      <td>Not applicable: Alarm operated OR presence/ope...</td>\n",
              "      <td>Hardwired (standalone)</td>\n",
              "      <td>Fire with no evidence from street</td>\n",
              "      <td>2018-02-23T14:35:03</td>\n",
              "      <td>2018-02-23T14:38:33</td>\n",
              "    </tr>\n",
              "    <tr>\n",
              "      <th>11210</th>\n",
              "      <td>Other Storage Area</td>\n",
              "      <td>No business interruption</td>\n",
              "      <td>0</td>\n",
              "      <td>0</td>\n",
              "      <td>1000</td>\n",
              "      <td>0</td>\n",
              "      <td>2018-02-24T01:42:03</td>\n",
              "      <td>Confined to object of origin</td>\n",
              "      <td>All persons (at risk of injury) evacuated as a...</td>\n",
              "      <td>Fire alarm system operated</td>\n",
              "      <td>...</td>\n",
              "      <td>-79.280725</td>\n",
              "      <td>Undetermined (formerly 98)</td>\n",
              "      <td>Extinguished by occupant</td>\n",
              "      <td>Electrical Failure</td>\n",
              "      <td>General Business Office</td>\n",
              "      <td>Not applicable: Alarm operated OR presence/ope...</td>\n",
              "      <td>Interconnected</td>\n",
              "      <td>Fire extinguished prior to arrival</td>\n",
              "      <td>2018-02-24T01:30:45</td>\n",
              "      <td>2018-02-24T01:36:59</td>\n",
              "    </tr>\n",
              "    <tr>\n",
              "      <th>11211</th>\n",
              "      <td>Other Storage Area</td>\n",
              "      <td>No business interruption</td>\n",
              "      <td>0</td>\n",
              "      <td>0</td>\n",
              "      <td>0</td>\n",
              "      <td>0</td>\n",
              "      <td>2018-02-24T02:40:00</td>\n",
              "      <td>Confined to object of origin</td>\n",
              "      <td>All persons (at risk of injury) evacuated as a...</td>\n",
              "      <td>Fire alarm system operated</td>\n",
              "      <td>...</td>\n",
              "      <td>-79.280725</td>\n",
              "      <td>Electrical Wiring Insulation</td>\n",
              "      <td>Extinguished by occupant</td>\n",
              "      <td>Other unintentional cause, not classified</td>\n",
              "      <td>General Business Office</td>\n",
              "      <td>Not applicable: Alarm operated OR presence/ope...</td>\n",
              "      <td>Interconnected</td>\n",
              "      <td>Fire extinguished prior to arrival</td>\n",
              "      <td>2018-02-24T02:30:33</td>\n",
              "      <td>2018-02-24T02:35:07</td>\n",
              "    </tr>\n",
              "    <tr>\n",
              "      <th>11212</th>\n",
              "      <td>Porch or Balcony</td>\n",
              "      <td>Not applicable (not a business)</td>\n",
              "      <td>6</td>\n",
              "      <td>0</td>\n",
              "      <td>100000</td>\n",
              "      <td>1</td>\n",
              "      <td>2018-02-24T00:44:00</td>\n",
              "      <td>Confined to part of room/area of origin</td>\n",
              "      <td>All persons (at risk of injury) evacuated as a...</td>\n",
              "      <td>Fire alarm system operated</td>\n",
              "      <td>...</td>\n",
              "      <td>-79.500863</td>\n",
              "      <td>Paper, Cardboard</td>\n",
              "      <td>Extinguished by fire department</td>\n",
              "      <td>Improperly Discarded</td>\n",
              "      <td>Multi-Unit Dwelling - Over 12 Units</td>\n",
              "      <td>Not applicable: Alarm operated OR presence/ope...</td>\n",
              "      <td>Battery operated</td>\n",
              "      <td>Flames showing from small area (one storey or ...</td>\n",
              "      <td>2018-02-24T00:34:12</td>\n",
              "      <td>2018-02-24T00:38:47</td>\n",
              "    </tr>\n",
              "    <tr>\n",
              "      <th>11213</th>\n",
              "      <td>Trash, Rubbish Storage (inc garbage chute room...</td>\n",
              "      <td>No business interruption</td>\n",
              "      <td>0</td>\n",
              "      <td>0</td>\n",
              "      <td>100</td>\n",
              "      <td>0</td>\n",
              "      <td>2018-02-24T08:33:18</td>\n",
              "      <td>Confined to object of origin</td>\n",
              "      <td>Not applicable: Occupant(s) first alerted by o...</td>\n",
              "      <td>Fire alarm system did not operate</td>\n",
              "      <td>...</td>\n",
              "      <td>-79.589233</td>\n",
              "      <td>Rubbish, Trash, Waste</td>\n",
              "      <td>Extinguished by fire department</td>\n",
              "      <td>Improperly Discarded</td>\n",
              "      <td>Hardware Store</td>\n",
              "      <td>Not applicable: Alarm operated OR presence/ope...</td>\n",
              "      <td>Type undetermined</td>\n",
              "      <td>Fire with no evidence from street</td>\n",
              "      <td>2018-02-24T08:22:30</td>\n",
              "      <td>2018-02-24T08:27:21</td>\n",
              "    </tr>\n",
              "  </tbody>\n",
              "</table>\n",
              "<p>5 rows × 27 columns</p>\n",
              "</div>\n",
              "      <button class=\"colab-df-convert\" onclick=\"convertToInteractive('df-9ccaeaf5-1def-4061-953d-1d40358223a5')\"\n",
              "              title=\"Convert this dataframe to an interactive table.\"\n",
              "              style=\"display:none;\">\n",
              "        \n",
              "  <svg xmlns=\"http://www.w3.org/2000/svg\" height=\"24px\"viewBox=\"0 0 24 24\"\n",
              "       width=\"24px\">\n",
              "    <path d=\"M0 0h24v24H0V0z\" fill=\"none\"/>\n",
              "    <path d=\"M18.56 5.44l.94 2.06.94-2.06 2.06-.94-2.06-.94-.94-2.06-.94 2.06-2.06.94zm-11 1L8.5 8.5l.94-2.06 2.06-.94-2.06-.94L8.5 2.5l-.94 2.06-2.06.94zm10 10l.94 2.06.94-2.06 2.06-.94-2.06-.94-.94-2.06-.94 2.06-2.06.94z\"/><path d=\"M17.41 7.96l-1.37-1.37c-.4-.4-.92-.59-1.43-.59-.52 0-1.04.2-1.43.59L10.3 9.45l-7.72 7.72c-.78.78-.78 2.05 0 2.83L4 21.41c.39.39.9.59 1.41.59.51 0 1.02-.2 1.41-.59l7.78-7.78 2.81-2.81c.8-.78.8-2.07 0-2.86zM5.41 20L4 18.59l7.72-7.72 1.47 1.35L5.41 20z\"/>\n",
              "  </svg>\n",
              "      </button>\n",
              "      \n",
              "  <style>\n",
              "    .colab-df-container {\n",
              "      display:flex;\n",
              "      flex-wrap:wrap;\n",
              "      gap: 12px;\n",
              "    }\n",
              "\n",
              "    .colab-df-convert {\n",
              "      background-color: #E8F0FE;\n",
              "      border: none;\n",
              "      border-radius: 50%;\n",
              "      cursor: pointer;\n",
              "      display: none;\n",
              "      fill: #1967D2;\n",
              "      height: 32px;\n",
              "      padding: 0 0 0 0;\n",
              "      width: 32px;\n",
              "    }\n",
              "\n",
              "    .colab-df-convert:hover {\n",
              "      background-color: #E2EBFA;\n",
              "      box-shadow: 0px 1px 2px rgba(60, 64, 67, 0.3), 0px 1px 3px 1px rgba(60, 64, 67, 0.15);\n",
              "      fill: #174EA6;\n",
              "    }\n",
              "\n",
              "    [theme=dark] .colab-df-convert {\n",
              "      background-color: #3B4455;\n",
              "      fill: #D2E3FC;\n",
              "    }\n",
              "\n",
              "    [theme=dark] .colab-df-convert:hover {\n",
              "      background-color: #434B5C;\n",
              "      box-shadow: 0px 1px 3px 1px rgba(0, 0, 0, 0.15);\n",
              "      filter: drop-shadow(0px 1px 2px rgba(0, 0, 0, 0.3));\n",
              "      fill: #FFFFFF;\n",
              "    }\n",
              "  </style>\n",
              "\n",
              "      <script>\n",
              "        const buttonEl =\n",
              "          document.querySelector('#df-9ccaeaf5-1def-4061-953d-1d40358223a5 button.colab-df-convert');\n",
              "        buttonEl.style.display =\n",
              "          google.colab.kernel.accessAllowed ? 'block' : 'none';\n",
              "\n",
              "        async function convertToInteractive(key) {\n",
              "          const element = document.querySelector('#df-9ccaeaf5-1def-4061-953d-1d40358223a5');\n",
              "          const dataTable =\n",
              "            await google.colab.kernel.invokeFunction('convertToInteractive',\n",
              "                                                     [key], {});\n",
              "          if (!dataTable) return;\n",
              "\n",
              "          const docLinkHtml = 'Like what you see? Visit the ' +\n",
              "            '<a target=\"_blank\" href=https://colab.research.google.com/notebooks/data_table.ipynb>data table notebook</a>'\n",
              "            + ' to learn more about interactive tables.';\n",
              "          element.innerHTML = '';\n",
              "          dataTable['output_type'] = 'display_data';\n",
              "          await google.colab.output.renderOutput(dataTable, element);\n",
              "          const docLink = document.createElement('div');\n",
              "          docLink.innerHTML = docLinkHtml;\n",
              "          element.appendChild(docLink);\n",
              "        }\n",
              "      </script>\n",
              "    </div>\n",
              "  </div>\n",
              "  "
            ]
          },
          "metadata": {},
          "execution_count": 4
        }
      ]
    },
    {
      "cell_type": "code",
      "source": [
        "# finding shape of dataset\n",
        "fire_df.shape"
      ],
      "metadata": {
        "colab": {
          "base_uri": "https://localhost:8080/"
        },
        "id": "lqFxjDcQLyvy",
        "outputId": "4850b900-c324-4543-8982-4cb7635689f0"
      },
      "execution_count": 5,
      "outputs": [
        {
          "output_type": "execute_result",
          "data": {
            "text/plain": [
              "(11214, 27)"
            ]
          },
          "metadata": {},
          "execution_count": 5
        }
      ]
    },
    {
      "cell_type": "markdown",
      "source": [
        "The Dataset has:\n",
        "\n",
        "    Number of Rows:      11214\n",
        "    Number of Columns:   27"
      ],
      "metadata": {
        "id": "ar7gw0jIL8Gf"
      }
    },
    {
      "cell_type": "code",
      "source": [
        "# finding information about columns present in dataset\n",
        "fire_df.info()"
      ],
      "metadata": {
        "colab": {
          "base_uri": "https://localhost:8080/"
        },
        "id": "daFtJ0KPL1PW",
        "outputId": "192083fa-eac8-4d07-b1cd-ffa7fffdcfcc"
      },
      "execution_count": 6,
      "outputs": [
        {
          "output_type": "stream",
          "name": "stdout",
          "text": [
            "<class 'pandas.core.frame.DataFrame'>\n",
            "RangeIndex: 11214 entries, 0 to 11213\n",
            "Data columns (total 27 columns):\n",
            " #   Column                                    Non-Null Count  Dtype  \n",
            "---  ------                                    --------------  -----  \n",
            " 0   Area_of_Origin                            11214 non-null  object \n",
            " 1   Business_Impact                           11214 non-null  object \n",
            " 2   Civilian_Casualties                       11214 non-null  int64  \n",
            " 3   Count_of_Persons_Rescued                  11214 non-null  int64  \n",
            " 4   Estimated_Dollar_Loss                     11214 non-null  int64  \n",
            " 5   Estimated_Number_Of_Persons_Displaced     11214 non-null  int64  \n",
            " 6   Ext_agent_app_or_defer_time               11214 non-null  object \n",
            " 7   Extent_Of_Fire                            11214 non-null  object \n",
            " 8   Fire_Alarm_System_Impact_on_Evacuation    11214 non-null  object \n",
            " 9   Fire_Alarm_System_Operation               11214 non-null  object \n",
            " 10  Fire_Alarm_System_Presence                11214 non-null  object \n",
            " 11  Fire_Under_Control_Time                   11214 non-null  object \n",
            " 12  Ignition_Source                           11214 non-null  object \n",
            " 13  Incident_Station_Area                     11214 non-null  int64  \n",
            " 14  Incident_Ward                             11181 non-null  float64\n",
            " 15  Last_TFS_Unit_Clear_Time                  11214 non-null  object \n",
            " 16  Latitude                                  11214 non-null  float64\n",
            " 17  Longitude                                 11214 non-null  float64\n",
            " 18  Material_First_Ignited                    11214 non-null  object \n",
            " 19  Method_Of_Fire_Control                    11214 non-null  object \n",
            " 20  Possible_Cause                            11214 non-null  object \n",
            " 21  Property_Use                              11214 non-null  object \n",
            " 22  Smoke_Alarm_at_Fire_Origin_Alarm_Failure  11214 non-null  object \n",
            " 23  Smoke_Alarm_at_Fire_Origin_Alarm_Type     11214 non-null  object \n",
            " 24  Status_of_Fire_On_Arrival                 11214 non-null  object \n",
            " 25  TFS_Alarm_Time                            11214 non-null  object \n",
            " 26  TFS_Arrival_Time                          11214 non-null  object \n",
            "dtypes: float64(3), int64(5), object(19)\n",
            "memory usage: 2.3+ MB\n"
          ]
        }
      ]
    },
    {
      "cell_type": "markdown",
      "source": [
        "The Dataset has:\n",
        "    \n",
        "    Number of column with Float type variable:    3\n",
        "    Number of column with Int type variable:      5\n",
        "    Number of column with Object type variable:   19\n",
        "\n",
        "But we see that Columns with Date & Time values are in object format. Let's change it into date-time format."
      ],
      "metadata": {
        "id": "Gc_jTJzSMPtY"
      }
    },
    {
      "cell_type": "markdown",
      "source": [
        "### **Converting Timestamp to Date Time format**\n",
        "\n",
        "The timestamps are string values and need to be converted to datetime objects to do feature engineering."
      ],
      "metadata": {
        "id": "9RKwryGPMY40"
      }
    },
    {
      "cell_type": "code",
      "source": [
        "# Converting Columns in object type to Date-time format.\n",
        "fire_df['Ext_agent_app_or_defer_time'] = pd.to_datetime(fire_df['Ext_agent_app_or_defer_time'])\n",
        "fire_df['Fire_Under_Control_Time'] = pd.to_datetime(fire_df['Fire_Under_Control_Time'])\n",
        "fire_df['Last_TFS_Unit_Clear_Time'] = pd.to_datetime(fire_df['Last_TFS_Unit_Clear_Time'])\n",
        "fire_df['TFS_Alarm_Time'] = pd.to_datetime(fire_df['TFS_Alarm_Time'])\n",
        "fire_df['TFS_Arrival_Time'] = pd.to_datetime(fire_df['TFS_Arrival_Time'])"
      ],
      "metadata": {
        "id": "ONMKn-xOMG8Z"
      },
      "execution_count": 7,
      "outputs": []
    },
    {
      "cell_type": "code",
      "source": [
        "# finding information about columns present in dataset\n",
        "fire_df.info()"
      ],
      "metadata": {
        "colab": {
          "base_uri": "https://localhost:8080/"
        },
        "id": "xya5NR4FMjoS",
        "outputId": "68abd1f9-fd3d-4390-d534-7320bf7cdf34"
      },
      "execution_count": 8,
      "outputs": [
        {
          "output_type": "stream",
          "name": "stdout",
          "text": [
            "<class 'pandas.core.frame.DataFrame'>\n",
            "RangeIndex: 11214 entries, 0 to 11213\n",
            "Data columns (total 27 columns):\n",
            " #   Column                                    Non-Null Count  Dtype         \n",
            "---  ------                                    --------------  -----         \n",
            " 0   Area_of_Origin                            11214 non-null  object        \n",
            " 1   Business_Impact                           11214 non-null  object        \n",
            " 2   Civilian_Casualties                       11214 non-null  int64         \n",
            " 3   Count_of_Persons_Rescued                  11214 non-null  int64         \n",
            " 4   Estimated_Dollar_Loss                     11214 non-null  int64         \n",
            " 5   Estimated_Number_Of_Persons_Displaced     11214 non-null  int64         \n",
            " 6   Ext_agent_app_or_defer_time               11214 non-null  datetime64[ns]\n",
            " 7   Extent_Of_Fire                            11214 non-null  object        \n",
            " 8   Fire_Alarm_System_Impact_on_Evacuation    11214 non-null  object        \n",
            " 9   Fire_Alarm_System_Operation               11214 non-null  object        \n",
            " 10  Fire_Alarm_System_Presence                11214 non-null  object        \n",
            " 11  Fire_Under_Control_Time                   11214 non-null  datetime64[ns]\n",
            " 12  Ignition_Source                           11214 non-null  object        \n",
            " 13  Incident_Station_Area                     11214 non-null  int64         \n",
            " 14  Incident_Ward                             11181 non-null  float64       \n",
            " 15  Last_TFS_Unit_Clear_Time                  11214 non-null  datetime64[ns]\n",
            " 16  Latitude                                  11214 non-null  float64       \n",
            " 17  Longitude                                 11214 non-null  float64       \n",
            " 18  Material_First_Ignited                    11214 non-null  object        \n",
            " 19  Method_Of_Fire_Control                    11214 non-null  object        \n",
            " 20  Possible_Cause                            11214 non-null  object        \n",
            " 21  Property_Use                              11214 non-null  object        \n",
            " 22  Smoke_Alarm_at_Fire_Origin_Alarm_Failure  11214 non-null  object        \n",
            " 23  Smoke_Alarm_at_Fire_Origin_Alarm_Type     11214 non-null  object        \n",
            " 24  Status_of_Fire_On_Arrival                 11214 non-null  object        \n",
            " 25  TFS_Alarm_Time                            11214 non-null  datetime64[ns]\n",
            " 26  TFS_Arrival_Time                          11214 non-null  datetime64[ns]\n",
            "dtypes: datetime64[ns](5), float64(3), int64(5), object(14)\n",
            "memory usage: 2.3+ MB\n"
          ]
        }
      ]
    },
    {
      "cell_type": "markdown",
      "source": [
        "The Dataset has:\n",
        "    \n",
        "    Number of column with Float type variable:      3\n",
        "    Number of column with Int type variable:        5\n",
        "    Number of column with Datetime type variable:   5\n",
        "    Number of column with Object type variable:     14"
      ],
      "metadata": {
        "id": "kpUWRgIPMvQE"
      }
    },
    {
      "cell_type": "markdown",
      "source": [
        "## **Inspecting Null Columns**"
      ],
      "metadata": {
        "id": "UxMMySkrM3by"
      }
    },
    {
      "cell_type": "code",
      "source": [
        "# finding columns with null values\n",
        "fire_df.isnull().sum()"
      ],
      "metadata": {
        "colab": {
          "base_uri": "https://localhost:8080/"
        },
        "id": "yzIc6GJvMmF7",
        "outputId": "1637c49c-81ba-4581-a158-e78494f83992"
      },
      "execution_count": 9,
      "outputs": [
        {
          "output_type": "execute_result",
          "data": {
            "text/plain": [
              "Area_of_Origin                               0\n",
              "Business_Impact                              0\n",
              "Civilian_Casualties                          0\n",
              "Count_of_Persons_Rescued                     0\n",
              "Estimated_Dollar_Loss                        0\n",
              "Estimated_Number_Of_Persons_Displaced        0\n",
              "Ext_agent_app_or_defer_time                  0\n",
              "Extent_Of_Fire                               0\n",
              "Fire_Alarm_System_Impact_on_Evacuation       0\n",
              "Fire_Alarm_System_Operation                  0\n",
              "Fire_Alarm_System_Presence                   0\n",
              "Fire_Under_Control_Time                      0\n",
              "Ignition_Source                              0\n",
              "Incident_Station_Area                        0\n",
              "Incident_Ward                               33\n",
              "Last_TFS_Unit_Clear_Time                     0\n",
              "Latitude                                     0\n",
              "Longitude                                    0\n",
              "Material_First_Ignited                       0\n",
              "Method_Of_Fire_Control                       0\n",
              "Possible_Cause                               0\n",
              "Property_Use                                 0\n",
              "Smoke_Alarm_at_Fire_Origin_Alarm_Failure     0\n",
              "Smoke_Alarm_at_Fire_Origin_Alarm_Type        0\n",
              "Status_of_Fire_On_Arrival                    0\n",
              "TFS_Alarm_Time                               0\n",
              "TFS_Arrival_Time                             0\n",
              "dtype: int64"
            ]
          },
          "metadata": {},
          "execution_count": 9
        }
      ]
    },
    {
      "cell_type": "markdown",
      "source": [
        "## **Handling Null Values**\n",
        "\n",
        "As only Column 'Incident Ward' has null values, let's inspect this column. "
      ],
      "metadata": {
        "id": "tyy47lQeM77C"
      }
    },
    {
      "cell_type": "code",
      "source": [
        "# analysing unique values in the column.\n",
        "fire_df['Incident_Ward'].unique()"
      ],
      "metadata": {
        "id": "9EKlYGy3M__x",
        "colab": {
          "base_uri": "https://localhost:8080/"
        },
        "outputId": "0a1da756-3f6a-49c2-e6ec-6119d45e154b"
      },
      "execution_count": 10,
      "outputs": [
        {
          "output_type": "execute_result",
          "data": {
            "text/plain": [
              "array([18.,  7., 27., 20.,  5., 15., 14., 17., 29.,  9.,  8., 42., 22.,\n",
              "       36., 43.,  1., 28., 33., 24., 35., 37., 30., 34., 11., 10.,  6.,\n",
              "       21.,  4., 19., 26., 44., 32., 23., 25., 38., 31.,  2., 13., 12.,\n",
              "       16.,  3., 40., 41., nan, 39.])"
            ]
          },
          "metadata": {},
          "execution_count": 10
        }
      ]
    },
    {
      "cell_type": "markdown",
      "source": [
        "As Incident Ward column signifies Ward code of the area where the incident occurred, we can replace null values with 0."
      ],
      "metadata": {
        "id": "AqgRUd5NNKB1"
      }
    },
    {
      "cell_type": "code",
      "source": [
        "# replacing null values 0\n",
        "fire_df['Incident_Ward'].fillna(0, inplace=True)"
      ],
      "metadata": {
        "id": "WhHVGJyzNHdb"
      },
      "execution_count": 11,
      "outputs": []
    },
    {
      "cell_type": "code",
      "source": [
        "# again calculating number of null values in each column\n",
        "fire_df.isnull().sum()"
      ],
      "metadata": {
        "colab": {
          "base_uri": "https://localhost:8080/"
        },
        "id": "vivdjPDSNPcy",
        "outputId": "1796b0f3-166a-41f6-a429-d244510f39ba"
      },
      "execution_count": 12,
      "outputs": [
        {
          "output_type": "execute_result",
          "data": {
            "text/plain": [
              "Area_of_Origin                              0\n",
              "Business_Impact                             0\n",
              "Civilian_Casualties                         0\n",
              "Count_of_Persons_Rescued                    0\n",
              "Estimated_Dollar_Loss                       0\n",
              "Estimated_Number_Of_Persons_Displaced       0\n",
              "Ext_agent_app_or_defer_time                 0\n",
              "Extent_Of_Fire                              0\n",
              "Fire_Alarm_System_Impact_on_Evacuation      0\n",
              "Fire_Alarm_System_Operation                 0\n",
              "Fire_Alarm_System_Presence                  0\n",
              "Fire_Under_Control_Time                     0\n",
              "Ignition_Source                             0\n",
              "Incident_Station_Area                       0\n",
              "Incident_Ward                               0\n",
              "Last_TFS_Unit_Clear_Time                    0\n",
              "Latitude                                    0\n",
              "Longitude                                   0\n",
              "Material_First_Ignited                      0\n",
              "Method_Of_Fire_Control                      0\n",
              "Possible_Cause                              0\n",
              "Property_Use                                0\n",
              "Smoke_Alarm_at_Fire_Origin_Alarm_Failure    0\n",
              "Smoke_Alarm_at_Fire_Origin_Alarm_Type       0\n",
              "Status_of_Fire_On_Arrival                   0\n",
              "TFS_Alarm_Time                              0\n",
              "TFS_Arrival_Time                            0\n",
              "dtype: int64"
            ]
          },
          "metadata": {},
          "execution_count": 12
        }
      ]
    },
    {
      "cell_type": "markdown",
      "source": [
        "## **Analysing Numerical Columns**"
      ],
      "metadata": {
        "id": "1ioO6qrUNcsC"
      }
    },
    {
      "cell_type": "code",
      "source": [
        "# describing the mathematical features of Numerical Columns using count, mean, standard deviation, minimum value, maximum value,\n",
        "# 25th, 50th, 75th percentile values.\n",
        "fire_df.describe()"
      ],
      "metadata": {
        "colab": {
          "base_uri": "https://localhost:8080/",
          "height": 364
        },
        "id": "pjvQkVRHNW5u",
        "outputId": "4fac0c25-437a-4acf-8fd7-3358fcbb6618"
      },
      "execution_count": 13,
      "outputs": [
        {
          "output_type": "execute_result",
          "data": {
            "text/plain": [
              "       Civilian_Casualties  Count_of_Persons_Rescued  Estimated_Dollar_Loss  \\\n",
              "count         11214.000000              11214.000000           1.121400e+04   \n",
              "mean              0.112538                  0.062154           4.294369e+04   \n",
              "std               0.456429                  0.962587           5.339367e+05   \n",
              "min               0.000000                  0.000000           0.000000e+00   \n",
              "25%               0.000000                  0.000000           2.500000e+02   \n",
              "50%               0.000000                  0.000000           2.500000e+03   \n",
              "75%               0.000000                  0.000000           1.500000e+04   \n",
              "max              15.000000                 86.000000           5.000000e+07   \n",
              "\n",
              "       Estimated_Number_Of_Persons_Displaced  Incident_Station_Area  \\\n",
              "count                           11214.000000           11214.000000   \n",
              "mean                               17.274835             288.281880   \n",
              "std                               119.071696             107.515995   \n",
              "min                                 0.000000             111.000000   \n",
              "25%                                 0.000000             221.000000   \n",
              "50%                                 0.000000             314.000000   \n",
              "75%                                 1.000000             346.000000   \n",
              "max                               999.000000             445.000000   \n",
              "\n",
              "       Incident_Ward      Latitude     Longitude  \n",
              "count   11214.000000  11214.000000  11214.000000  \n",
              "mean       19.525058     43.705190    -79.403323  \n",
              "std        11.793265      0.051183      0.101086  \n",
              "min         0.000000     43.588926    -79.635241  \n",
              "25%         9.250000     43.662474    -79.479273  \n",
              "50%        19.000000     43.697050    -79.403892  \n",
              "75%        28.000000     43.747770    -79.337150  \n",
              "max        44.000000     43.846200    -79.124410  "
            ],
            "text/html": [
              "\n",
              "  <div id=\"df-92ae342e-e0af-4663-ac66-8cc84d82dadf\">\n",
              "    <div class=\"colab-df-container\">\n",
              "      <div>\n",
              "<style scoped>\n",
              "    .dataframe tbody tr th:only-of-type {\n",
              "        vertical-align: middle;\n",
              "    }\n",
              "\n",
              "    .dataframe tbody tr th {\n",
              "        vertical-align: top;\n",
              "    }\n",
              "\n",
              "    .dataframe thead th {\n",
              "        text-align: right;\n",
              "    }\n",
              "</style>\n",
              "<table border=\"1\" class=\"dataframe\">\n",
              "  <thead>\n",
              "    <tr style=\"text-align: right;\">\n",
              "      <th></th>\n",
              "      <th>Civilian_Casualties</th>\n",
              "      <th>Count_of_Persons_Rescued</th>\n",
              "      <th>Estimated_Dollar_Loss</th>\n",
              "      <th>Estimated_Number_Of_Persons_Displaced</th>\n",
              "      <th>Incident_Station_Area</th>\n",
              "      <th>Incident_Ward</th>\n",
              "      <th>Latitude</th>\n",
              "      <th>Longitude</th>\n",
              "    </tr>\n",
              "  </thead>\n",
              "  <tbody>\n",
              "    <tr>\n",
              "      <th>count</th>\n",
              "      <td>11214.000000</td>\n",
              "      <td>11214.000000</td>\n",
              "      <td>1.121400e+04</td>\n",
              "      <td>11214.000000</td>\n",
              "      <td>11214.000000</td>\n",
              "      <td>11214.000000</td>\n",
              "      <td>11214.000000</td>\n",
              "      <td>11214.000000</td>\n",
              "    </tr>\n",
              "    <tr>\n",
              "      <th>mean</th>\n",
              "      <td>0.112538</td>\n",
              "      <td>0.062154</td>\n",
              "      <td>4.294369e+04</td>\n",
              "      <td>17.274835</td>\n",
              "      <td>288.281880</td>\n",
              "      <td>19.525058</td>\n",
              "      <td>43.705190</td>\n",
              "      <td>-79.403323</td>\n",
              "    </tr>\n",
              "    <tr>\n",
              "      <th>std</th>\n",
              "      <td>0.456429</td>\n",
              "      <td>0.962587</td>\n",
              "      <td>5.339367e+05</td>\n",
              "      <td>119.071696</td>\n",
              "      <td>107.515995</td>\n",
              "      <td>11.793265</td>\n",
              "      <td>0.051183</td>\n",
              "      <td>0.101086</td>\n",
              "    </tr>\n",
              "    <tr>\n",
              "      <th>min</th>\n",
              "      <td>0.000000</td>\n",
              "      <td>0.000000</td>\n",
              "      <td>0.000000e+00</td>\n",
              "      <td>0.000000</td>\n",
              "      <td>111.000000</td>\n",
              "      <td>0.000000</td>\n",
              "      <td>43.588926</td>\n",
              "      <td>-79.635241</td>\n",
              "    </tr>\n",
              "    <tr>\n",
              "      <th>25%</th>\n",
              "      <td>0.000000</td>\n",
              "      <td>0.000000</td>\n",
              "      <td>2.500000e+02</td>\n",
              "      <td>0.000000</td>\n",
              "      <td>221.000000</td>\n",
              "      <td>9.250000</td>\n",
              "      <td>43.662474</td>\n",
              "      <td>-79.479273</td>\n",
              "    </tr>\n",
              "    <tr>\n",
              "      <th>50%</th>\n",
              "      <td>0.000000</td>\n",
              "      <td>0.000000</td>\n",
              "      <td>2.500000e+03</td>\n",
              "      <td>0.000000</td>\n",
              "      <td>314.000000</td>\n",
              "      <td>19.000000</td>\n",
              "      <td>43.697050</td>\n",
              "      <td>-79.403892</td>\n",
              "    </tr>\n",
              "    <tr>\n",
              "      <th>75%</th>\n",
              "      <td>0.000000</td>\n",
              "      <td>0.000000</td>\n",
              "      <td>1.500000e+04</td>\n",
              "      <td>1.000000</td>\n",
              "      <td>346.000000</td>\n",
              "      <td>28.000000</td>\n",
              "      <td>43.747770</td>\n",
              "      <td>-79.337150</td>\n",
              "    </tr>\n",
              "    <tr>\n",
              "      <th>max</th>\n",
              "      <td>15.000000</td>\n",
              "      <td>86.000000</td>\n",
              "      <td>5.000000e+07</td>\n",
              "      <td>999.000000</td>\n",
              "      <td>445.000000</td>\n",
              "      <td>44.000000</td>\n",
              "      <td>43.846200</td>\n",
              "      <td>-79.124410</td>\n",
              "    </tr>\n",
              "  </tbody>\n",
              "</table>\n",
              "</div>\n",
              "      <button class=\"colab-df-convert\" onclick=\"convertToInteractive('df-92ae342e-e0af-4663-ac66-8cc84d82dadf')\"\n",
              "              title=\"Convert this dataframe to an interactive table.\"\n",
              "              style=\"display:none;\">\n",
              "        \n",
              "  <svg xmlns=\"http://www.w3.org/2000/svg\" height=\"24px\"viewBox=\"0 0 24 24\"\n",
              "       width=\"24px\">\n",
              "    <path d=\"M0 0h24v24H0V0z\" fill=\"none\"/>\n",
              "    <path d=\"M18.56 5.44l.94 2.06.94-2.06 2.06-.94-2.06-.94-.94-2.06-.94 2.06-2.06.94zm-11 1L8.5 8.5l.94-2.06 2.06-.94-2.06-.94L8.5 2.5l-.94 2.06-2.06.94zm10 10l.94 2.06.94-2.06 2.06-.94-2.06-.94-.94-2.06-.94 2.06-2.06.94z\"/><path d=\"M17.41 7.96l-1.37-1.37c-.4-.4-.92-.59-1.43-.59-.52 0-1.04.2-1.43.59L10.3 9.45l-7.72 7.72c-.78.78-.78 2.05 0 2.83L4 21.41c.39.39.9.59 1.41.59.51 0 1.02-.2 1.41-.59l7.78-7.78 2.81-2.81c.8-.78.8-2.07 0-2.86zM5.41 20L4 18.59l7.72-7.72 1.47 1.35L5.41 20z\"/>\n",
              "  </svg>\n",
              "      </button>\n",
              "      \n",
              "  <style>\n",
              "    .colab-df-container {\n",
              "      display:flex;\n",
              "      flex-wrap:wrap;\n",
              "      gap: 12px;\n",
              "    }\n",
              "\n",
              "    .colab-df-convert {\n",
              "      background-color: #E8F0FE;\n",
              "      border: none;\n",
              "      border-radius: 50%;\n",
              "      cursor: pointer;\n",
              "      display: none;\n",
              "      fill: #1967D2;\n",
              "      height: 32px;\n",
              "      padding: 0 0 0 0;\n",
              "      width: 32px;\n",
              "    }\n",
              "\n",
              "    .colab-df-convert:hover {\n",
              "      background-color: #E2EBFA;\n",
              "      box-shadow: 0px 1px 2px rgba(60, 64, 67, 0.3), 0px 1px 3px 1px rgba(60, 64, 67, 0.15);\n",
              "      fill: #174EA6;\n",
              "    }\n",
              "\n",
              "    [theme=dark] .colab-df-convert {\n",
              "      background-color: #3B4455;\n",
              "      fill: #D2E3FC;\n",
              "    }\n",
              "\n",
              "    [theme=dark] .colab-df-convert:hover {\n",
              "      background-color: #434B5C;\n",
              "      box-shadow: 0px 1px 3px 1px rgba(0, 0, 0, 0.15);\n",
              "      filter: drop-shadow(0px 1px 2px rgba(0, 0, 0, 0.3));\n",
              "      fill: #FFFFFF;\n",
              "    }\n",
              "  </style>\n",
              "\n",
              "      <script>\n",
              "        const buttonEl =\n",
              "          document.querySelector('#df-92ae342e-e0af-4663-ac66-8cc84d82dadf button.colab-df-convert');\n",
              "        buttonEl.style.display =\n",
              "          google.colab.kernel.accessAllowed ? 'block' : 'none';\n",
              "\n",
              "        async function convertToInteractive(key) {\n",
              "          const element = document.querySelector('#df-92ae342e-e0af-4663-ac66-8cc84d82dadf');\n",
              "          const dataTable =\n",
              "            await google.colab.kernel.invokeFunction('convertToInteractive',\n",
              "                                                     [key], {});\n",
              "          if (!dataTable) return;\n",
              "\n",
              "          const docLinkHtml = 'Like what you see? Visit the ' +\n",
              "            '<a target=\"_blank\" href=https://colab.research.google.com/notebooks/data_table.ipynb>data table notebook</a>'\n",
              "            + ' to learn more about interactive tables.';\n",
              "          element.innerHTML = '';\n",
              "          dataTable['output_type'] = 'display_data';\n",
              "          await google.colab.output.renderOutput(dataTable, element);\n",
              "          const docLink = document.createElement('div');\n",
              "          docLink.innerHTML = docLinkHtml;\n",
              "          element.appendChild(docLink);\n",
              "        }\n",
              "      </script>\n",
              "    </div>\n",
              "  </div>\n",
              "  "
            ]
          },
          "metadata": {},
          "execution_count": 13
        }
      ]
    },
    {
      "cell_type": "code",
      "source": [
        "# describing the mathematical features of Numerical Columns using mean, median, most common, least common, variance, \n",
        "# standard deviation, minimum value, maximum value, skew, kurtosis, mean absolute deviation to understand in better way\n",
        "# by creating a dictionary of columns and their related numerical features.\n",
        "explore_dict = {\n",
        "    'Mean' : [fire_df.Civilian_Casualties.mean(), fire_df.Count_of_Persons_Rescued.mean(), \n",
        "                fire_df.Estimated_Dollar_Loss.mean(), fire_df.Estimated_Number_Of_Persons_Displaced.mean(), \n",
        "                fire_df.Incident_Station_Area.mean(), fire_df.Incident_Ward.mean()],\n",
        "    \n",
        "    'Median' : [statistics.median(fire_df.Civilian_Casualties), statistics.median(fire_df.Count_of_Persons_Rescued),\n",
        "                statistics.median(fire_df.Estimated_Dollar_Loss), statistics.median(fire_df.Estimated_Number_Of_Persons_Displaced),\n",
        "                statistics.median(fire_df.Incident_Station_Area), statistics.median(fire_df.Incident_Ward)],\n",
        "    \n",
        "    'Min Value' : [fire_df.Civilian_Casualties.min(), fire_df.Count_of_Persons_Rescued.min(), \n",
        "                   fire_df.Estimated_Dollar_Loss.min(), fire_df.Estimated_Number_Of_Persons_Displaced.min(), \n",
        "                   fire_df.Incident_Station_Area.min(), fire_df.Incident_Ward.min()],\n",
        "    \n",
        "    'Max Value' : [fire_df.Civilian_Casualties.max(), fire_df.Count_of_Persons_Rescued.max(), \n",
        "                   fire_df.Estimated_Dollar_Loss.max(), fire_df.Estimated_Number_Of_Persons_Displaced.max(), \n",
        "                   fire_df.Incident_Station_Area.max(), fire_df.Incident_Ward.max()],\n",
        "    \n",
        "    'Most Common' : [fire_df.Civilian_Casualties.value_counts().idxmax(), fire_df.Count_of_Persons_Rescued.value_counts().idxmax(), \n",
        "                           fire_df.Estimated_Dollar_Loss.value_counts().idxmax(), fire_df.Estimated_Number_Of_Persons_Displaced.value_counts().idxmax(), \n",
        "                           fire_df.Incident_Station_Area.value_counts().idxmax(), fire_df.Incident_Ward.value_counts().idxmax()],\n",
        "    \n",
        "    'Least Common' : [fire_df.Civilian_Casualties.value_counts().idxmin(), fire_df.Count_of_Persons_Rescued.value_counts().idxmin(), \n",
        "                            fire_df.Estimated_Dollar_Loss.value_counts().idxmin(), fire_df.Estimated_Number_Of_Persons_Displaced.value_counts().idxmin(), \n",
        "                            fire_df.Incident_Station_Area.value_counts().idxmin(), fire_df.Incident_Ward.value_counts().idxmin()],\n",
        "    \n",
        "    'Variance' : [statistics.variance(fire_df.Civilian_Casualties), statistics.variance(fire_df.Count_of_Persons_Rescued),\n",
        "                statistics.variance(fire_df.Estimated_Dollar_Loss), statistics.variance(fire_df.Estimated_Number_Of_Persons_Displaced),\n",
        "                statistics.variance(fire_df.Incident_Station_Area), statistics.variance(fire_df.Incident_Ward)],\n",
        "    \n",
        "    'St. Dev' : [statistics.stdev(fire_df.Civilian_Casualties), statistics.stdev(fire_df.Count_of_Persons_Rescued),\n",
        "                 statistics.stdev(fire_df.Estimated_Dollar_Loss), statistics.stdev(fire_df.Estimated_Number_Of_Persons_Displaced),\n",
        "                 statistics.stdev(fire_df.Incident_Station_Area), statistics.stdev(fire_df.Incident_Ward)],\n",
        "    \n",
        "    'Skew' : [fire_df.Civilian_Casualties.skew(), fire_df.Count_of_Persons_Rescued.skew(), \n",
        "              fire_df.Estimated_Dollar_Loss.skew(), fire_df.Estimated_Number_Of_Persons_Displaced.skew(), \n",
        "              fire_df.Incident_Station_Area.skew(), fire_df.Incident_Ward.skew()],\n",
        "    \n",
        "    'Kurtosis' : [fire_df.Civilian_Casualties.kurt(), fire_df.Count_of_Persons_Rescued.kurt(), \n",
        "                  fire_df.Estimated_Dollar_Loss.kurt(), fire_df.Estimated_Number_Of_Persons_Displaced.kurt(), \n",
        "                  fire_df.Incident_Station_Area.kurt(), fire_df.Incident_Ward.kurt()],\n",
        "    \n",
        "    'Mean Absolute Deviation' : [fire_df.Civilian_Casualties.mad(), fire_df.Count_of_Persons_Rescued.mad(), \n",
        "                                 fire_df.Estimated_Dollar_Loss.mad(), fire_df.Estimated_Number_Of_Persons_Displaced.mad(), \n",
        "                                 fire_df.Incident_Station_Area.mad(), fire_df.Incident_Ward.mad()],\n",
        "}\n"
      ],
      "metadata": {
        "id": "g1_it6p5Nlsu"
      },
      "execution_count": 14,
      "outputs": []
    },
    {
      "cell_type": "code",
      "source": [
        "# creating a dataframe from dictionary\n",
        "explore_df = pd.DataFrame(explore_dict, index = ['Civilian Casualties', 'Count of persons rescued',\n",
        "                                                 'Estimated Dollar Loss', 'Estimated Number of Persons Displaced',\n",
        "                                                 'Incident Station Area', 'Incident Ward'])\n",
        "explore_df.head()"
      ],
      "metadata": {
        "colab": {
          "base_uri": "https://localhost:8080/",
          "height": 285
        },
        "id": "dQcgFWKdNrrd",
        "outputId": "2a518116-53ba-49e5-afe0-fb872315f4dd"
      },
      "execution_count": 15,
      "outputs": [
        {
          "output_type": "execute_result",
          "data": {
            "text/plain": [
              "                                               Mean  Median  Min Value  \\\n",
              "Civilian Casualties                        0.112538     0.0        0.0   \n",
              "Count of persons rescued                   0.062154     0.0        0.0   \n",
              "Estimated Dollar Loss                  42943.693419  2500.0        0.0   \n",
              "Estimated Number of Persons Displaced     17.274835     0.0        0.0   \n",
              "Incident Station Area                    288.281880   314.0      111.0   \n",
              "\n",
              "                                        Max Value  Most Common  Least Common  \\\n",
              "Civilian Casualties                          15.0          0.0          15.0   \n",
              "Count of persons rescued                     86.0          0.0          86.0   \n",
              "Estimated Dollar Loss                  50000000.0          0.0       15600.0   \n",
              "Estimated Number of Persons Displaced       999.0          0.0         230.0   \n",
              "Incident Station Area                       445.0        426.0         346.0   \n",
              "\n",
              "                                           Variance        St. Dev       Skew  \\\n",
              "Civilian Casualties                    2.083276e-01       0.456429   8.455166   \n",
              "Count of persons rescued               9.265744e-01       0.962587  67.355363   \n",
              "Estimated Dollar Loss                  2.850884e+11  533936.667426  76.107737   \n",
              "Estimated Number of Persons Displaced  1.417807e+04     119.071696   7.929017   \n",
              "Incident Station Area                  1.155969e+04     107.515995  -0.154630   \n",
              "\n",
              "                                          Kurtosis  Mean Absolute Deviation  \n",
              "Civilian Casualties                     149.308247                 0.205988  \n",
              "Count of persons rescued               5747.892245                 0.120684  \n",
              "Estimated Dollar Loss                  6892.877165             63425.666540  \n",
              "Estimated Number of Persons Displaced    61.853362                31.293370  \n",
              "Incident Station Area                    -1.215131                94.124758  "
            ],
            "text/html": [
              "\n",
              "  <div id=\"df-8db1287f-6631-4de7-b5c2-3fbebd8ff691\">\n",
              "    <div class=\"colab-df-container\">\n",
              "      <div>\n",
              "<style scoped>\n",
              "    .dataframe tbody tr th:only-of-type {\n",
              "        vertical-align: middle;\n",
              "    }\n",
              "\n",
              "    .dataframe tbody tr th {\n",
              "        vertical-align: top;\n",
              "    }\n",
              "\n",
              "    .dataframe thead th {\n",
              "        text-align: right;\n",
              "    }\n",
              "</style>\n",
              "<table border=\"1\" class=\"dataframe\">\n",
              "  <thead>\n",
              "    <tr style=\"text-align: right;\">\n",
              "      <th></th>\n",
              "      <th>Mean</th>\n",
              "      <th>Median</th>\n",
              "      <th>Min Value</th>\n",
              "      <th>Max Value</th>\n",
              "      <th>Most Common</th>\n",
              "      <th>Least Common</th>\n",
              "      <th>Variance</th>\n",
              "      <th>St. Dev</th>\n",
              "      <th>Skew</th>\n",
              "      <th>Kurtosis</th>\n",
              "      <th>Mean Absolute Deviation</th>\n",
              "    </tr>\n",
              "  </thead>\n",
              "  <tbody>\n",
              "    <tr>\n",
              "      <th>Civilian Casualties</th>\n",
              "      <td>0.112538</td>\n",
              "      <td>0.0</td>\n",
              "      <td>0.0</td>\n",
              "      <td>15.0</td>\n",
              "      <td>0.0</td>\n",
              "      <td>15.0</td>\n",
              "      <td>2.083276e-01</td>\n",
              "      <td>0.456429</td>\n",
              "      <td>8.455166</td>\n",
              "      <td>149.308247</td>\n",
              "      <td>0.205988</td>\n",
              "    </tr>\n",
              "    <tr>\n",
              "      <th>Count of persons rescued</th>\n",
              "      <td>0.062154</td>\n",
              "      <td>0.0</td>\n",
              "      <td>0.0</td>\n",
              "      <td>86.0</td>\n",
              "      <td>0.0</td>\n",
              "      <td>86.0</td>\n",
              "      <td>9.265744e-01</td>\n",
              "      <td>0.962587</td>\n",
              "      <td>67.355363</td>\n",
              "      <td>5747.892245</td>\n",
              "      <td>0.120684</td>\n",
              "    </tr>\n",
              "    <tr>\n",
              "      <th>Estimated Dollar Loss</th>\n",
              "      <td>42943.693419</td>\n",
              "      <td>2500.0</td>\n",
              "      <td>0.0</td>\n",
              "      <td>50000000.0</td>\n",
              "      <td>0.0</td>\n",
              "      <td>15600.0</td>\n",
              "      <td>2.850884e+11</td>\n",
              "      <td>533936.667426</td>\n",
              "      <td>76.107737</td>\n",
              "      <td>6892.877165</td>\n",
              "      <td>63425.666540</td>\n",
              "    </tr>\n",
              "    <tr>\n",
              "      <th>Estimated Number of Persons Displaced</th>\n",
              "      <td>17.274835</td>\n",
              "      <td>0.0</td>\n",
              "      <td>0.0</td>\n",
              "      <td>999.0</td>\n",
              "      <td>0.0</td>\n",
              "      <td>230.0</td>\n",
              "      <td>1.417807e+04</td>\n",
              "      <td>119.071696</td>\n",
              "      <td>7.929017</td>\n",
              "      <td>61.853362</td>\n",
              "      <td>31.293370</td>\n",
              "    </tr>\n",
              "    <tr>\n",
              "      <th>Incident Station Area</th>\n",
              "      <td>288.281880</td>\n",
              "      <td>314.0</td>\n",
              "      <td>111.0</td>\n",
              "      <td>445.0</td>\n",
              "      <td>426.0</td>\n",
              "      <td>346.0</td>\n",
              "      <td>1.155969e+04</td>\n",
              "      <td>107.515995</td>\n",
              "      <td>-0.154630</td>\n",
              "      <td>-1.215131</td>\n",
              "      <td>94.124758</td>\n",
              "    </tr>\n",
              "  </tbody>\n",
              "</table>\n",
              "</div>\n",
              "      <button class=\"colab-df-convert\" onclick=\"convertToInteractive('df-8db1287f-6631-4de7-b5c2-3fbebd8ff691')\"\n",
              "              title=\"Convert this dataframe to an interactive table.\"\n",
              "              style=\"display:none;\">\n",
              "        \n",
              "  <svg xmlns=\"http://www.w3.org/2000/svg\" height=\"24px\"viewBox=\"0 0 24 24\"\n",
              "       width=\"24px\">\n",
              "    <path d=\"M0 0h24v24H0V0z\" fill=\"none\"/>\n",
              "    <path d=\"M18.56 5.44l.94 2.06.94-2.06 2.06-.94-2.06-.94-.94-2.06-.94 2.06-2.06.94zm-11 1L8.5 8.5l.94-2.06 2.06-.94-2.06-.94L8.5 2.5l-.94 2.06-2.06.94zm10 10l.94 2.06.94-2.06 2.06-.94-2.06-.94-.94-2.06-.94 2.06-2.06.94z\"/><path d=\"M17.41 7.96l-1.37-1.37c-.4-.4-.92-.59-1.43-.59-.52 0-1.04.2-1.43.59L10.3 9.45l-7.72 7.72c-.78.78-.78 2.05 0 2.83L4 21.41c.39.39.9.59 1.41.59.51 0 1.02-.2 1.41-.59l7.78-7.78 2.81-2.81c.8-.78.8-2.07 0-2.86zM5.41 20L4 18.59l7.72-7.72 1.47 1.35L5.41 20z\"/>\n",
              "  </svg>\n",
              "      </button>\n",
              "      \n",
              "  <style>\n",
              "    .colab-df-container {\n",
              "      display:flex;\n",
              "      flex-wrap:wrap;\n",
              "      gap: 12px;\n",
              "    }\n",
              "\n",
              "    .colab-df-convert {\n",
              "      background-color: #E8F0FE;\n",
              "      border: none;\n",
              "      border-radius: 50%;\n",
              "      cursor: pointer;\n",
              "      display: none;\n",
              "      fill: #1967D2;\n",
              "      height: 32px;\n",
              "      padding: 0 0 0 0;\n",
              "      width: 32px;\n",
              "    }\n",
              "\n",
              "    .colab-df-convert:hover {\n",
              "      background-color: #E2EBFA;\n",
              "      box-shadow: 0px 1px 2px rgba(60, 64, 67, 0.3), 0px 1px 3px 1px rgba(60, 64, 67, 0.15);\n",
              "      fill: #174EA6;\n",
              "    }\n",
              "\n",
              "    [theme=dark] .colab-df-convert {\n",
              "      background-color: #3B4455;\n",
              "      fill: #D2E3FC;\n",
              "    }\n",
              "\n",
              "    [theme=dark] .colab-df-convert:hover {\n",
              "      background-color: #434B5C;\n",
              "      box-shadow: 0px 1px 3px 1px rgba(0, 0, 0, 0.15);\n",
              "      filter: drop-shadow(0px 1px 2px rgba(0, 0, 0, 0.3));\n",
              "      fill: #FFFFFF;\n",
              "    }\n",
              "  </style>\n",
              "\n",
              "      <script>\n",
              "        const buttonEl =\n",
              "          document.querySelector('#df-8db1287f-6631-4de7-b5c2-3fbebd8ff691 button.colab-df-convert');\n",
              "        buttonEl.style.display =\n",
              "          google.colab.kernel.accessAllowed ? 'block' : 'none';\n",
              "\n",
              "        async function convertToInteractive(key) {\n",
              "          const element = document.querySelector('#df-8db1287f-6631-4de7-b5c2-3fbebd8ff691');\n",
              "          const dataTable =\n",
              "            await google.colab.kernel.invokeFunction('convertToInteractive',\n",
              "                                                     [key], {});\n",
              "          if (!dataTable) return;\n",
              "\n",
              "          const docLinkHtml = 'Like what you see? Visit the ' +\n",
              "            '<a target=\"_blank\" href=https://colab.research.google.com/notebooks/data_table.ipynb>data table notebook</a>'\n",
              "            + ' to learn more about interactive tables.';\n",
              "          element.innerHTML = '';\n",
              "          dataTable['output_type'] = 'display_data';\n",
              "          await google.colab.output.renderOutput(dataTable, element);\n",
              "          const docLink = document.createElement('div');\n",
              "          docLink.innerHTML = docLinkHtml;\n",
              "          element.appendChild(docLink);\n",
              "        }\n",
              "      </script>\n",
              "    </div>\n",
              "  </div>\n",
              "  "
            ]
          },
          "metadata": {},
          "execution_count": 15
        }
      ]
    },
    {
      "cell_type": "markdown",
      "source": [
        "The above statistics show that most values in civilian casualties, persons rescued, dollar loss and persons displaced fall close to 0.\n",
        "\n",
        "The maximum values are much higher than the mean and median indicating a lot of outliers."
      ],
      "metadata": {
        "id": "8ubmHkfaN7T4"
      }
    },
    {
      "cell_type": "markdown",
      "source": [
        "The data is already relatively clean however some cleaning is required:\n",
        "\n",
        "\n",
        "*   The categorical columns have far too many categories and many of these categories have too few observations.\n",
        "\n",
        "*   Outliers need to be removed\n",
        "\n",
        "\n",
        "\n",
        "\n",
        "\n"
      ],
      "metadata": {
        "id": "IqD2gMViQE9r"
      }
    },
    {
      "cell_type": "markdown",
      "source": [
        "## **Let's analyse Place of origin where fire incident took place and which property got affected.**"
      ],
      "metadata": {
        "id": "VWOH3_n4fJBT"
      }
    },
    {
      "cell_type": "code",
      "source": [
        "# Analysing Area of Origin column, to understand more fire accident prone areas.\n",
        "fire_df['Area_of_Origin'].value_counts(normalize=True)*100"
      ],
      "metadata": {
        "colab": {
          "base_uri": "https://localhost:8080/"
        },
        "id": "kiMrfZILNt40",
        "outputId": "4d025700-33db-4965-b8ea-28d16d95674c"
      },
      "execution_count": 16,
      "outputs": [
        {
          "output_type": "execute_result",
          "data": {
            "text/plain": [
              "Cooking Area or Kitchen                                             25.593009\n",
              "Porch or Balcony                                                     8.471553\n",
              "Sleeping Area or Bedroom (inc. patients room, dormitory, etc)        7.740325\n",
              "Trash, Rubbish Storage (inc garbage chute room, garbage/industri     6.696986\n",
              "Living Area (e.g. living, TV, recreation, etc)                       5.296950\n",
              "                                                                      ...    \n",
              "Under Investigation                                                  0.044587\n",
              "Running Gear (inc wheels and braking systems, transmission syste     0.035670\n",
              "Incinerator Room                                                     0.026752\n",
              "Records storage area (inc vaults)                                    0.017835\n",
              "Fuel Dispensing Area (outside)                                       0.008917\n",
              "Name: Area_of_Origin, Length: 73, dtype: float64"
            ]
          },
          "metadata": {},
          "execution_count": 16
        }
      ]
    },
    {
      "cell_type": "code",
      "source": [
        "# Now we will plot a graph for top 10 values of area of origin\n",
        "plt.title('Area of Origin')\n",
        "fire_df['Area_of_Origin'].value_counts(normalize = True, ascending = True)[-10:].plot(kind='barh')\n",
        "plt.show()"
      ],
      "metadata": {
        "colab": {
          "base_uri": "https://localhost:8080/",
          "height": 281
        },
        "id": "K1LoT2R-SDI0",
        "outputId": "e153d607-a700-41e9-c236-7d07f6c79ca7"
      },
      "execution_count": 17,
      "outputs": [
        {
          "output_type": "display_data",
          "data": {
            "text/plain": [
              "<Figure size 432x288 with 1 Axes>"
            ],
            "image/png": "[encoded data removed]"
          },
          "metadata": {
            "needs_background": "light"
          }
        }
      ]
    },
    {
      "cell_type": "markdown",
      "source": [
        "The column has unique values with the most common value being '**Cooking area or Kitchen**' representing 25.6% of entries.\n"
      ],
      "metadata": {
        "id": "MW2uqA-vSvjY"
      }
    },
    {
      "cell_type": "markdown",
      "source": [
        "'Area of Origin' has too many categories. Let's find those which are important for analysis."
      ],
      "metadata": {
        "id": "D84130eugFqf"
      }
    },
    {
      "cell_type": "code",
      "source": [
        "# Displaying all the distincts values present in the column\n",
        "with pd.option_context('display.max_rows', None, 'display.max_columns', None):\n",
        "    print(fire_df['Area_of_Origin'].value_counts())"
      ],
      "metadata": {
        "colab": {
          "base_uri": "https://localhost:8080/"
        },
        "id": "eDGnhPl1fpAo",
        "outputId": "bbbfab63-b434-4fe3-c518-94c45a97f7b1"
      },
      "execution_count": 18,
      "outputs": [
        {
          "output_type": "stream",
          "name": "stdout",
          "text": [
            "Cooking Area or Kitchen                                                 2870\n",
            "Porch or Balcony                                                         950\n",
            "Sleeping Area or Bedroom (inc. patients room, dormitory, etc)            868\n",
            "Trash, Rubbish Storage (inc garbage chute room, garbage/industri         751\n",
            "Living Area (e.g. living, TV, recreation, etc)                           594\n",
            "Garage                                                                   392\n",
            "Laundry Area                                                             365\n",
            "Washroom or Bathroom (toilet,restroom/locker room)                       288\n",
            "Roof                                                                     259\n",
            "Process Manufacturing (inc manf, prod assembly, repair)                  201\n",
            "Other - unclassified                                                     201\n",
            "Chimney/Flue Pipe                                                        197\n",
            "Engine Area                                                              176\n",
            "Trash, rubbish area (outside)                                            173\n",
            "Mechanical/Electrical Services Room                                      169\n",
            "Basement/cellar (not partitioned)                                        159\n",
            "Exterior Wall                                                            149\n",
            "Other Outside Area                                                       147\n",
            "Hallway, Corridor                                                        147\n",
            "Undetermined  (formerly 98)                                              147\n",
            "Electrical Systems                                                       124\n",
            "HVAC Equipment Room (furnace room, water heater closet, boiler)          102\n",
            "Court, Patio, Terrace                                                    102\n",
            "Attached Deck                                                             98\n",
            "Other Storage Area                                                        89\n",
            "Stairway, Escalator                                                       85\n",
            "Lobby, Entranceway                                                        84\n",
            "Parking Area, Parking Lot                                                 82\n",
            "Storage Area (outside)                                                    81\n",
            "Dining or Beverage Area (inc mess, canteen, lunchroom, cafeteria          80\n",
            "Electronic Equipment                                                      72\n",
            "Open Area (inc lawn, field, farmyard, park, playing field, pier,          67\n",
            "Closet (eg. clothes, broom, linen closet, etc.)                           65\n",
            "Attic Area                                                                64\n",
            "Ducting - Exhaust (inc cooking, fumes, etc.)                              53\n",
            "Concealed Ceiling Area                                                    52\n",
            "Office                                                                    52\n",
            "Other Structural Area                                                     47\n",
            "Product Storage (inc products or materials awaiting manuf, assembly)      43\n",
            "Other Functional Area                                                     43\n",
            "Supply Storage Room (inc maintenance/office/document storage, et          36\n",
            "Sales, Showroom Area                                                      36\n",
            "Shipping/Receiving/Loading Platform                                       35\n",
            "Other Vehicle Area                                                        31\n",
            "Sauna                                                                     30\n",
            "Concealed Wall Area                                                       27\n",
            "Passenger Area                                                            27\n",
            "Elevator (includes shaft)                                                 23\n",
            "Utility Shaft (eg. electrical wiring/phone, etc.)                         22\n",
            "Ducting - Heating, Air Conditioning                                       21\n",
            "Awning or Canopy                                                          20\n",
            "Other Building Services/Support Facilities                                19\n",
            "Locker (apartment storage)                                                17\n",
            "Concealed Floor Area                                                      17\n",
            "Conveyor Shaft or Chute (inc dumbwaiter, laundry chute, garbage           17\n",
            "Laboratory                                                                15\n",
            "Fuel Systems (eg. fuel tank, etc.)                                        14\n",
            "Assembly Area (inc school room,spectator area, church, etc)               14\n",
            "Trunk/Cargo Area                                                          14\n",
            "Residential/Business: Other busines area                                  12\n",
            "Crawl Space (includes sub-structure)                                      12\n",
            "Other Means of Egress                                                     11\n",
            "Residential/Business: Restaurant area                                     10\n",
            "Performance Area (inc stage, rink, boxing ring, gym floor, altar           8\n",
            "Operating Room, Treatment or Examination Area                              6\n",
            "Operator/Control Area                                                      6\n",
            "Covered Court, Atrium, mall concourse                                      6\n",
            "Multiple Areas of Origin                                                   5\n",
            "Under Investigation                                                        5\n",
            "Running Gear (inc wheels and braking systems, transmission syste           4\n",
            "Incinerator Room                                                           3\n",
            "Records storage area (inc vaults)                                          2\n",
            "Fuel Dispensing Area (outside)                                             1\n",
            "Name: Area_of_Origin, dtype: int64\n"
          ]
        }
      ]
    },
    {
      "cell_type": "markdown",
      "source": [
        "There is a small dropoff in values after 'Attached Deck' where the remaining categories have at least close to 100 observations, This cutoff is arbitrary and a better cutoff might be possible with further analysis. I will group all categories with less observations than 'Attached Deck' as well as the 'Other - unclassified' category in a new 'Other' category."
      ],
      "metadata": {
        "id": "Emqt-bY8gs1j"
      }
    },
    {
      "cell_type": "code",
      "source": [
        "keep_origin = ['Cooking Area or Kitchen', \n",
        "              'Porch or Balcony', \n",
        "              'Sleeping Area or Bedroom (inc. patients room, dormitory, etc)',\n",
        "              'Trash, Rubbish Storage (inc garbage chute room, garbage/industri',\n",
        "              'Living Area (e.g. living, TV, recreation, etc)',\n",
        "              'Garage',\n",
        "              'Laundry Area',\n",
        "              'Washroom or Bathroom (toilet,restroom/locker room)'\n",
        "              'Roof',\n",
        "              'Chimney/Flue Pipe',\n",
        "              'Engine Area',\n",
        "              'Trash, rubbish area (outside)',\n",
        "              'Mechanical/Electrical Services Room',\n",
        "              'Basement/cellar (not partitioned)',\n",
        "              'Exterior Wall',\n",
        "              'Other Outside Area',\n",
        "              'Hallway, Corridor',\n",
        "              'Electrical Systems',\n",
        "              'HVAC Equipment Room (furnace room, water heater closet, boiler)',\n",
        "              'Court, Patio, Terrace',\n",
        "              'Attached Deck']"
      ],
      "metadata": {
        "id": "saRw9CLZgqOP"
      },
      "execution_count": 19,
      "outputs": []
    },
    {
      "cell_type": "code",
      "source": [
        "for i in fire_df['Area_of_Origin']:\n",
        "    if i not in keep_origin:\n",
        "        fire_df['Area_of_Origin'] = np.where((fire_df.Area_of_Origin == i), 'Other', fire_df.Area_of_Origin)"
      ],
      "metadata": {
        "id": "8YoMbIJug8hY"
      },
      "execution_count": 20,
      "outputs": []
    },
    {
      "cell_type": "code",
      "source": [
        "# The remaining categories\n",
        "with pd.option_context('display.max_rows', None, 'display.max_columns', None):\n",
        "    print(fire_df['Area_of_Origin'].value_counts())"
      ],
      "metadata": {
        "colab": {
          "base_uri": "https://localhost:8080/"
        },
        "id": "oDZ7DwQthRbM",
        "outputId": "f68de7ac-4d05-4c4c-df0a-eaa3f1890f4d"
      },
      "execution_count": 21,
      "outputs": [
        {
          "output_type": "stream",
          "name": "stdout",
          "text": [
            "Cooking Area or Kitchen                                             2870\n",
            "Other                                                               2681\n",
            "Porch or Balcony                                                     950\n",
            "Sleeping Area or Bedroom (inc. patients room, dormitory, etc)        868\n",
            "Trash, Rubbish Storage (inc garbage chute room, garbage/industri     751\n",
            "Living Area (e.g. living, TV, recreation, etc)                       594\n",
            "Garage                                                               392\n",
            "Laundry Area                                                         365\n",
            "Chimney/Flue Pipe                                                    197\n",
            "Engine Area                                                          176\n",
            "Trash, rubbish area (outside)                                        173\n",
            "Mechanical/Electrical Services Room                                  169\n",
            "Basement/cellar (not partitioned)                                    159\n",
            "Exterior Wall                                                        149\n",
            "Hallway, Corridor                                                    147\n",
            "Other Outside Area                                                   147\n",
            "Electrical Systems                                                   124\n",
            "HVAC Equipment Room (furnace room, water heater closet, boiler)      102\n",
            "Court, Patio, Terrace                                                102\n",
            "Attached Deck                                                         98\n",
            "Name: Area_of_Origin, dtype: int64\n"
          ]
        }
      ]
    },
    {
      "cell_type": "code",
      "source": [
        "plt.title('Area of Origin')\n",
        "fire_df['Area_of_Origin'].value_counts( normalize=True, ascending=True).plot(kind='barh')\n",
        "plt.show()"
      ],
      "metadata": {
        "colab": {
          "base_uri": "https://localhost:8080/",
          "height": 281
        },
        "id": "jZbqV9_Chcuw",
        "outputId": "2b8a434a-a702-4365-ae6a-db51e9d18c10"
      },
      "execution_count": 22,
      "outputs": [
        {
          "output_type": "display_data",
          "data": {
            "text/plain": [
              "<Figure size 432x288 with 1 Axes>"
            ],
            "image/png": "[encoded data removed]"
          },
          "metadata": {
            "needs_background": "light"
          }
        }
      ]
    },
    {
      "cell_type": "code",
      "source": [
        "# Analysing Property Use column, to understand more fire accident prone areas.\n",
        "fire_df['Property_Use'].value_counts(normalize=True)*100"
      ],
      "metadata": {
        "colab": {
          "base_uri": "https://localhost:8080/"
        },
        "id": "E3CUfY8LVSMQ",
        "outputId": "1c9a42fa-cfe8-49da-d403-45a7e6b1bca6"
      },
      "execution_count": 25,
      "outputs": [
        {
          "output_type": "execute_result",
          "data": {
            "text/plain": [
              "Multi-Unit Dwelling - Over 12 Units                               33.163902\n",
              "Detached Dwelling                                                 20.670590\n",
              "Semi-Detached Dwelling                                             6.500803\n",
              "Attached Dwelling (eg. rowhouse, townhouse, etc.)                  5.163189\n",
              "Multi-Unit Dwelling - 2 to 6 Units                                 2.505796\n",
              "                                                                    ...    \n",
              "Hotel, Motel, Lodging - Less than 4 guests or suites (inc B&B)     0.008917\n",
              "Market - Outdoors (flowers, fruit, vegetable sales)                0.008917\n",
              "Automobile                                                         0.008917\n",
              "Sto: Tank, Tank Farm, Other Liquids                                0.008917\n",
              "Heating Plant - central/district heating plant, steam, etc         0.008917\n",
              "Name: Property_Use, Length: 217, dtype: float64"
            ]
          },
          "metadata": {},
          "execution_count": 25
        }
      ]
    },
    {
      "cell_type": "code",
      "source": [
        "# Now we will plot a graph for top values for it.\n",
        "plt.title('Property Use')\n",
        "fire_df['Property_Use'].value_counts(normalize=True, ascending=True)[-10:].plot(kind='barh')\n",
        "plt.show()"
      ],
      "metadata": {
        "colab": {
          "base_uri": "https://localhost:8080/",
          "height": 281
        },
        "id": "ZGvodYoEViWJ",
        "outputId": "b9d80e32-da08-415e-b292-7d7eca72b55e"
      },
      "execution_count": 29,
      "outputs": [
        {
          "output_type": "display_data",
          "data": {
            "text/plain": [
              "<Figure size 432x288 with 1 Axes>"
            ],
            "image/png": "[encoded data removed]"
          },
          "metadata": {
            "needs_background": "light"
          }
        }
      ]
    },
    {
      "cell_type": "markdown",
      "source": [
        "This describes the use of property that had an incident with most common being '**Multi-unit dwelling**' with 33% while '**Detached dwelling**' consist of 20%."
      ],
      "metadata": {
        "id": "-oQ6s4z3WBCa"
      }
    },
    {
      "cell_type": "markdown",
      "source": [
        "The column '**Property Use** has too many categories, let's analyse in detail."
      ],
      "metadata": {
        "id": "m6J0hl4bZXlN"
      }
    },
    {
      "cell_type": "code",
      "source": [
        "keep_use = ['Multi-Unit Dwelling - Over 12 Units',\n",
        "            'Detached Dwelling',\n",
        "            'Semi-Detached Dwelling',\n",
        "            'Attached Dwelling (eg. rowhouse, townhouse, etc.)',\n",
        "            'Multi-Unit Dwelling - 2 to 6 Units',\n",
        "            'Apartment, Flat, Tenement with Business',\n",
        "            'Restaurants (occupant load greater than 30 persons, licensed)',\n",
        "            'Restaurant (occupant load less than 30 persons)',\n",
        "            'Multi-Unit Dwelling - 7 to 12 Units',\n",
        "            'Detached Garage',\n",
        "            'Subway Station',\n",
        "            'Rooming/Boarding/Lodging House',\n",
        "            'General Business Office',\n",
        "            'Motor Vehicle Repair Garage']"
      ],
      "metadata": {
        "id": "MWgSVgi7ZYJF"
      },
      "execution_count": 39,
      "outputs": []
    },
    {
      "cell_type": "code",
      "source": [
        "for i in fire_df['Property_Use']:\n",
        "    if i not in keep_use:\n",
        "        fire_df['Property_Use'] = np.where((fire_df.Property_Use == i), 'Other', fire_df.Property_Use)"
      ],
      "metadata": {
        "id": "zKeIfNcpaHcP"
      },
      "execution_count": 40,
      "outputs": []
    },
    {
      "cell_type": "code",
      "source": [
        "plt.title('Property Use')\n",
        "fire_df['Property_Use'].value_counts(normalize=True, ascending=True).plot(kind='barh')\n",
        "plt.show()"
      ],
      "metadata": {
        "colab": {
          "base_uri": "https://localhost:8080/",
          "height": 281
        },
        "id": "0AdOdQ-3aU23",
        "outputId": "4632ed3c-f15c-4fcc-ccab-15d8abe15e10"
      },
      "execution_count": 41,
      "outputs": [
        {
          "output_type": "display_data",
          "data": {
            "text/plain": [
              "<Figure size 432x288 with 1 Axes>"
            ],
            "image/png": "[encoded data removed]"
          },
          "metadata": {
            "needs_background": "light"
          }
        }
      ]
    },
    {
      "cell_type": "markdown",
      "source": [
        "## **Let's analyse which Business got affected the most due to fire incidents.**"
      ],
      "metadata": {
        "id": "SRs_opLP1rU8"
      }
    },
    {
      "cell_type": "code",
      "source": [
        "# Analysing Business impact column, to understand if business were impacted due to fire and what were they?\n",
        "fire_df['Business_Impact'].value_counts(normalize=True)*100"
      ],
      "metadata": {
        "colab": {
          "base_uri": "https://localhost:8080/"
        },
        "id": "RI63ZgNZSsl9",
        "outputId": "32052e8a-3831-45b8-e2e9-6bc4b1e57324"
      },
      "execution_count": 23,
      "outputs": [
        {
          "output_type": "execute_result",
          "data": {
            "text/plain": [
              "Not applicable (not a business)         45.514535\n",
              "No business interruption                40.048154\n",
              "Undetermined                             6.723738\n",
              "May resume operations within a week      5.724987\n",
              "May resume operations within a month     1.123596\n",
              "May not resume operations                0.561798\n",
              "May resume operations within a year      0.303192\n",
              "Name: Business_Impact, dtype: float64"
            ]
          },
          "metadata": {},
          "execution_count": 23
        }
      ]
    },
    {
      "cell_type": "code",
      "source": [
        "# Now we will plot a graph for top values for it.\n",
        "plt.title('Business Impact')\n",
        "fire_df['Business_Impact'].value_counts(ascending=True).plot(kind='barh')\n",
        "plt.show()"
      ],
      "metadata": {
        "colab": {
          "base_uri": "https://localhost:8080/",
          "height": 281
        },
        "id": "MaLx77sCXkSW",
        "outputId": "371ef37f-e82d-4bb9-aa80-49f2ae62b160"
      },
      "execution_count": 24,
      "outputs": [
        {
          "output_type": "display_data",
          "data": {
            "text/plain": [
              "<Figure size 432x288 with 1 Axes>"
            ],
            "image/png": "[encoded data removed]"
          },
          "metadata": {
            "needs_background": "light"
          }
        }
      ]
    },
    {
      "cell_type": "markdown",
      "source": [
        "**'Not applicable (no business)'** and **'No business interruption'** represents\n",
        "86% of entries.\n",
        "\n",
        "That is business was not impacted in 86% of the fire cases."
      ],
      "metadata": {
        "id": "WCFyAQ4MXsrw"
      }
    },
    {
      "cell_type": "markdown",
      "source": [
        "## Let's analyse Dollar Loss due to Fire Incidents"
      ],
      "metadata": {
        "id": "CsniCaGkatZe"
      }
    },
    {
      "cell_type": "code",
      "source": [
        "plt.title('Dollar Loss')\n",
        "sns.stripplot(data=fire_df, x='Estimated_Dollar_Loss')\n",
        "plt.show()"
      ],
      "metadata": {
        "colab": {
          "base_uri": "https://localhost:8080/",
          "height": 296
        },
        "id": "ov5YDiarar_U",
        "outputId": "97003ca1-3873-44ad-9fa8-5175bed5d959"
      },
      "execution_count": 42,
      "outputs": [
        {
          "output_type": "display_data",
          "data": {
            "text/plain": [
              "<Figure size 432x288 with 1 Axes>"
            ],
            "image/png": "[encoded data removed]"
          },
          "metadata": {
            "needs_background": "light"
          }
        }
      ]
    },
    {
      "cell_type": "markdown",
      "source": [
        "Since most data has a value of 0 the plots don't show the values very well. To show all the values the following plots exclude all 0 values."
      ],
      "metadata": {
        "id": "nGgWptFebQCR"
      }
    },
    {
      "cell_type": "code",
      "source": [
        "plt.title('Dollar Loss Excluding 0')\n",
        "loss_nozero = fire_df[(fire_df.Estimated_Dollar_Loss > 0)]\n",
        "sns.stripplot(data=loss_nozero, x='Estimated_Dollar_Loss')\n",
        "plt.show()"
      ],
      "metadata": {
        "colab": {
          "base_uri": "https://localhost:8080/",
          "height": 296
        },
        "id": "wZg7seDHbPFG",
        "outputId": "dd4307da-61c3-40be-d2e5-e770f9e5d680"
      },
      "execution_count": 43,
      "outputs": [
        {
          "output_type": "display_data",
          "data": {
            "text/plain": [
              "<Figure size 432x288 with 1 Axes>"
            ],
            "image/png": "[encoded data removed]"
          },
          "metadata": {
            "needs_background": "light"
          }
        }
      ]
    },
    {
      "cell_type": "markdown",
      "source": [
        "These strange values are removed as well as one massive outlier in the dollar loss column"
      ],
      "metadata": {
        "id": "H8Ls5L24cJ2Y"
      }
    },
    {
      "cell_type": "code",
      "source": [
        "fire_df = fire_df[(fire_df.Estimated_Dollar_Loss < 40000000)]"
      ],
      "metadata": {
        "id": "FJzgj8QNcJNC"
      },
      "execution_count": 44,
      "outputs": []
    },
    {
      "cell_type": "code",
      "source": [
        "plt.title('Dollar Loss Excluding 0')\n",
        "sns.stripplot(data=fire_df, x='Estimated_Dollar_Loss')\n",
        "plt.show()"
      ],
      "metadata": {
        "colab": {
          "base_uri": "https://localhost:8080/",
          "height": 296
        },
        "id": "STfdzMGmccvA",
        "outputId": "12de3ef7-20f5-4d71-bcc4-3732fcd650b1"
      },
      "execution_count": 46,
      "outputs": [
        {
          "output_type": "display_data",
          "data": {
            "text/plain": [
              "<Figure size 432x288 with 1 Axes>"
            ],
            "image/png": "[encoded data removed]"
          },
          "metadata": {
            "needs_background": "light"
          }
        }
      ]
    },
    {
      "cell_type": "markdown",
      "source": [
        "## **Let's analyse Possible causes of Fire, ignition source, material that caused ignition, and extent of fire.**"
      ],
      "metadata": {
        "id": "QKylG87dWmh2"
      }
    },
    {
      "cell_type": "code",
      "source": [
        "# Let's analyse the Possible cause of fire.\n",
        "fire_df['Possible_Cause'].value_counts(normalize=True)*100"
      ],
      "metadata": {
        "colab": {
          "base_uri": "https://localhost:8080/"
        },
        "id": "lM2VE-SedpGD",
        "outputId": "4462e672-1784-4ded-f69c-0fd7efd2ce27"
      },
      "execution_count": 54,
      "outputs": [
        {
          "output_type": "execute_result",
          "data": {
            "text/plain": [
              "Undetermined                                                         15.455275\n",
              "Electrical Failure                                                   14.144297\n",
              "Unattended                                                           13.983769\n",
              "Improperly Discarded                                                 12.940337\n",
              "Other unintentional cause, not classified                             9.408722\n",
              "Improper handling of ignition source or ignited material              7.205922\n",
              "Unintentional, cause undetermined                                     5.868189\n",
              "Routine maintenance deficiency, eg creosote, lint, grease buildup     4.628556\n",
              "Design/Construction/Installation/Maintenance Deficiency               3.968608\n",
              "Used or Placed too close to combustibles                              3.442433\n",
              "Other misuse of ignition source/material ignited                      2.407919\n",
              "Mechanical Failure                                                    2.318737\n",
              "Suspected Arson                                                       1.132614\n",
              "Improper Storage                                                      0.909658\n",
              "Children Playing (Ages 11 and under)                                  0.552930\n",
              "Used for purpose not intended                                         0.526175\n",
              "Suspected Vandalism                                                   0.365647\n",
              "Natural Cause                                                         0.231874\n",
              "Exposure fire                                                         0.151610\n",
              "Rekindle                                                              0.098100\n",
              "Suspected Youth Vandalism (Ages 12 to 17)                             0.089182\n",
              "Vehicle Accident/Collision                                            0.089182\n",
              "Under Investigation                                                   0.071346\n",
              "Riot/Civil Commotion                                                  0.008918\n",
              "Name: Possible_Cause, dtype: float64"
            ]
          },
          "metadata": {},
          "execution_count": 54
        }
      ]
    },
    {
      "cell_type": "code",
      "source": [
        "# Plotting a graph for it.\n",
        "plt.title('Possible Cause of Fire')\n",
        "fire_df['Possible_Cause'].value_counts(normalize = True, ascending=True)[-10:].plot(kind='barh')\n",
        "plt.show()"
      ],
      "metadata": {
        "colab": {
          "base_uri": "https://localhost:8080/",
          "height": 281
        },
        "id": "SMHXZmlUd3IY",
        "outputId": "bedd2500-949c-48e3-ea1e-d698f3e4d7b7"
      },
      "execution_count": 55,
      "outputs": [
        {
          "output_type": "display_data",
          "data": {
            "text/plain": [
              "<Figure size 432x288 with 1 Axes>"
            ],
            "image/png": "[encoded data removed]"
          },
          "metadata": {
            "needs_background": "light"
          }
        }
      ]
    },
    {
      "cell_type": "code",
      "source": [
        "# Let's analyse the source of fire.\n",
        "fire_df['Ignition_Source'].value_counts(normalize=True)*100"
      ],
      "metadata": {
        "colab": {
          "base_uri": "https://localhost:8080/"
        },
        "id": "D5KYJ2XncQVU",
        "outputId": "6b8e7cb4-3e10-429c-a40f-486e73837924"
      },
      "execution_count": 47,
      "outputs": [
        {
          "output_type": "execute_result",
          "data": {
            "text/plain": [
              "Undetermined                                                        22.036921\n",
              "Stove, Range-top burner                                             17.087309\n",
              "Other                                                               13.368412\n",
              "Smoker's Articles (eg. cigarettes, cigars, pipes already ignited    12.093106\n",
              "Oven                                                                 3.852671\n",
              "Clothes Dryer                                                        2.648711\n",
              "Candle                                                               2.443592\n",
              "Circuit Wiring - Copper                                              2.390083\n",
              "Blow Torch, Bunsen Burner                                            1.810399\n",
              "Cord, Cable for Appliance, Electrical Articles                       1.801480\n",
              "Cutting/Welding Equipment                                            1.623116\n",
              "Other Electrical                                                     1.453670\n",
              "Other Electrical Distribution Item                                   1.409079\n",
              "Vehicle - Electrical                                                 1.355569\n",
              "Other Cooking Items (eg Toaster, Kettle, elec frying pan)            1.355569\n",
              "Open Fired Barbeque - Fixed or Portable                              1.275305\n",
              "Other Open Flame Tools/Smokers' Articles                             1.168287\n",
              "Distribution Equipment (includes panel boards, fuses, circuit br     1.159369\n",
              "Hot Ashes, Embers, Spark                                             0.989922\n",
              "Fireplace - Masonry                                                  0.981004\n",
              "Other Appliances                                                     0.945331\n",
              "Service/Utility Lines (includes power/hydro transmission lines)      0.900740\n",
              "Chemical Reaction (eg. spontaneous combustion, etc.)                 0.882904\n",
              "Terminations-Copper (incl receptacles, switches, lights)             0.856149\n",
              "Deep Fat Fryer                                                       0.847231\n",
              "Incandescent Lamp - Light Bulb, Spotlight                            0.838313\n",
              "Other Mechanical                                                     0.838313\n",
              "Extension Cord, Temporary Wiring                                     0.811558\n",
              "Wood burning stove                                                   0.775885\n",
              "Name: Ignition_Source, dtype: float64"
            ]
          },
          "metadata": {},
          "execution_count": 47
        }
      ]
    },
    {
      "cell_type": "code",
      "source": [
        "# Plotting a graph for it.\n",
        "plt.title('Source of Ignition')\n",
        "fire_df['Ignition_Source'].value_counts(normalize = True, ascending=True)[-10:].plot(kind='barh')\n",
        "plt.show()"
      ],
      "metadata": {
        "colab": {
          "base_uri": "https://localhost:8080/",
          "height": 281
        },
        "id": "zhS-_X0ydW0D",
        "outputId": "a4816b10-80f4-4e94-aee8-307b5efd2b5f"
      },
      "execution_count": 48,
      "outputs": [
        {
          "output_type": "display_data",
          "data": {
            "text/plain": [
              "<Figure size 432x288 with 1 Axes>"
            ],
            "image/png": "[encoded data removed]"
          },
          "metadata": {
            "needs_background": "light"
          }
        }
      ]
    },
    {
      "cell_type": "markdown",
      "source": [
        "We see that there are many categories present in Ignition source, so let's analyses them in more detail."
      ],
      "metadata": {
        "id": "l2WC9z9fXOIX"
      }
    },
    {
      "cell_type": "code",
      "source": [
        "with pd.option_context('display.max_rows', None, 'display.max_columns', None):\n",
        "    print(fire_df['Ignition_Source'].value_counts())"
      ],
      "metadata": {
        "colab": {
          "base_uri": "https://localhost:8080/"
        },
        "id": "FJZiwy9yXbRm",
        "outputId": "abc75599-71bf-42e1-d264-a01d6e584257"
      },
      "execution_count": 30,
      "outputs": [
        {
          "output_type": "stream",
          "name": "stdout",
          "text": [
            "Undetermined                                                        2471\n",
            "Stove, Range-top burner                                             1916\n",
            "Smoker's Articles (eg. cigarettes, cigars, pipes already ignited    1356\n",
            "Oven                                                                 432\n",
            "Clothes Dryer                                                        297\n",
            "Candle                                                               274\n",
            "Circuit Wiring - Copper                                              268\n",
            "Blow Torch, Bunsen Burner                                            203\n",
            "Cord, Cable for Appliance, Electrical Articles                       202\n",
            "Other                                                                194\n",
            "Cutting/Welding Equipment                                            182\n",
            "Other Electrical                                                     163\n",
            "Other Electrical Distribution Item                                   158\n",
            "Other Cooking Items (eg Toaster, Kettle, elec frying pan)            152\n",
            "Vehicle - Electrical                                                 152\n",
            "Open Fired Barbeque - Fixed or Portable                              143\n",
            "Other Open Flame Tools/Smokers' Articles                             131\n",
            "Distribution Equipment (includes panel boards, fuses, circuit br     130\n",
            "Hot Ashes, Embers, Spark                                             111\n",
            "Fireplace - Masonry                                                  110\n",
            "Other Appliances                                                     106\n",
            "Service/Utility Lines (includes power/hydro transmission lines)      101\n",
            "Chemical Reaction (eg. spontaneous combustion, etc.)                  99\n",
            "Terminations-Copper (incl receptacles, switches, lights)              96\n",
            "Deep Fat Fryer                                                        95\n",
            "Other Mechanical                                                      94\n",
            "Incandescent Lamp - Light Bulb, Spotlight                             94\n",
            "Extension Cord, Temporary Wiring                                      91\n",
            "Wood burning stove                                                    87\n",
            "Vehicle - Mechanical                                                  79\n",
            "Matches or Lighters (unable to distinguish)                           75\n",
            "Central Heating/Cooling Unit                                          75\n",
            "Lighters (open flame)                                                 69\n",
            "Other Heating Equipment                                               65\n",
            "Space Heater - Portable                                               61\n",
            "Other Processing Equipment                                            61\n",
            "Transformer                                                           57\n",
            "Range Hood                                                            54\n",
            "Space Heater - Fixed                                                  45\n",
            "Microwave                                                             45\n",
            "Matches (open flame)                                                  44\n",
            "Heat Treatment Equipment (eg. furnace, oven, kiln, quench tanks,      42\n",
            "Refrigerator, Freezer (includes vending machine)                      37\n",
            "Television, Radio, Stereo, Tape Recorder, etc.                        36\n",
            "Other Lighting Equipment                                              35\n",
            "Open Fire (eg. camp fire, rubbish fire, etc.)                         35\n",
            "Florescent Lamp (includes ballast)                                    33\n",
            "Flue Pipe                                                             29\n",
            "Water Heater                                                          23\n",
            "Halogen Lamp or light                                                 22\n",
            "Fireplace Insert                                                      20\n",
            "Fireworks                                                             17\n",
            "Washing Machine                                                       15\n",
            "Exposure, source other                                                15\n",
            "Air Conditioner - Window or Room Unit                                 15\n",
            "Painting Equipment                                                    13\n",
            "Fireplace - Factory Built                                             12\n",
            "Lightning                                                             12\n",
            "Outdoor fireplace/heater                                              12\n",
            "Chimney - Masonry                                                     11\n",
            "Under Investigation                                                   11\n",
            "Exposure, source open fire (inc campfire, rubbish fire)               11\n",
            "Multiple Ignition Source or Igniting Equipment (suspected arson)      10\n",
            "Chimney - Factory Built                                                9\n",
            "Portable generator                                                     9\n",
            "Rekindle                                                               9\n",
            "Circuit Wiring - Aluminum                                              9\n",
            "Meter                                                                  9\n",
            "Static Electricity (spark)                                             7\n",
            "Iron, Pressing Machine                                                 7\n",
            "Terminations-Aluminum (incl receptables, switches, lights)             6\n",
            "Exposure, source grass, shrubs, trees                                  6\n",
            "Lamp (eg. coal, oil, naphtha, etc.)                                    6\n",
            "Exposure, source vehicle (outside structure)                           6\n",
            "Christmas Lights, Decorative Lighting                                  5\n",
            "Exposure, source structure detached                                    4\n",
            "Exposure, source structure semi-detached or attached                   4\n",
            "Chemical Processing Equipment (eg. reactors, distilling units, e       4\n",
            "Vehicle collision                                                      4\n",
            "Salamander                                                             2\n",
            "Electric Blanket, Heating Pad                                          2\n",
            "Incinerator                                                            2\n",
            "Name: Ignition_Source, dtype: int64\n"
          ]
        }
      ]
    },
    {
      "cell_type": "code",
      "source": [
        "keep_ignition = ['Undetermined',\n",
        "                 'Stove, Range-top burner',\n",
        "                 \"Smoker's Articles (eg. cigarettes, cigars, pipes already ignited\",\n",
        "                 'Oven',\n",
        "                 'Clothes Dryer',\n",
        "                 'Candle',\n",
        "                 'Circuit Wiring - Copper',\n",
        "                 'Blow Torch, Bunsen Burner',\n",
        "                 'Cord, Cable for Appliance, Electrical Articles',\n",
        "                 'Cutting/Welding Equipment',\n",
        "                 'Other Electrical',\n",
        "                 'Other Electrical Distribution Item',\n",
        "                 'Other Cooking Items (eg Toaster, Kettle, elec frying pan)',\n",
        "                 'Vehicle - Electrical',\n",
        "                 'Open Fired Barbeque - Fixed or Portable',\n",
        "                 \"Other Open Flame Tools/Smokers' Articles\",\n",
        "                 'Distribution Equipment (includes panel boards, fuses, circuit br',\n",
        "                 'Hot Ashes, Embers, Spark',\n",
        "                 'Fireplace - Masonry',\n",
        "                 'Other Appliances',\n",
        "                 'Service/Utility Lines (includes power/hydro transmission lines)',\n",
        "                 'Chemical Reaction (eg. spontaneous combustion, etc.)',\n",
        "                 'Terminations-Copper (incl receptacles, switches, lights)',\n",
        "                 'Deep Fat Fryer',\n",
        "                 'Other Mechanical',\n",
        "                 'Incandescent Lamp - Light Bulb, Spotlight',\n",
        "                 'Extension Cord, Temporary Wiring',\n",
        "                 'Wood burning stove']"
      ],
      "metadata": {
        "id": "EBfvmNZiXkxn"
      },
      "execution_count": 31,
      "outputs": []
    },
    {
      "cell_type": "code",
      "source": [
        "for i in fire_df['Ignition_Source']:\n",
        "    if i not in keep_ignition:\n",
        "        fire_df['Ignition_Source'] = np.where((fire_df.Ignition_Source == i), 'Other', fire_df.Ignition_Source)"
      ],
      "metadata": {
        "id": "pwLFEDoeX5j5"
      },
      "execution_count": 32,
      "outputs": []
    },
    {
      "cell_type": "code",
      "source": [
        "plt.title('Ignition Source')\n",
        "fire_df['Ignition_Source'].value_counts(normalize=True, ascending=True)[-10:].plot(kind='barh')\n",
        "plt.show()"
      ],
      "metadata": {
        "colab": {
          "base_uri": "https://localhost:8080/",
          "height": 281
        },
        "id": "rx5OHL18YCSK",
        "outputId": "6fc1d8a4-f1e1-48f6-cfc4-bc4e2cc1c0cb"
      },
      "execution_count": 35,
      "outputs": [
        {
          "output_type": "display_data",
          "data": {
            "text/plain": [
              "<Figure size 432x288 with 1 Axes>"
            ],
            "image/png": "[encoded data removed]"
          },
          "metadata": {
            "needs_background": "light"
          }
        }
      ]
    },
    {
      "cell_type": "code",
      "source": [
        "# Let's analyse material that caused spread of fire.\n",
        "fire_df['Material_First_Ignited'].value_counts(normalize=True)*100"
      ],
      "metadata": {
        "colab": {
          "base_uri": "https://localhost:8080/"
        },
        "id": "rsfpG7EjYZOw",
        "outputId": "24c85770-44f3-4b4f-c94f-45d3387fa21a"
      },
      "execution_count": 36,
      "outputs": [
        {
          "output_type": "execute_result",
          "data": {
            "text/plain": [
              "Cooking Oil, Grease                                        12.930266\n",
              "Rubbish, Trash, Waste                                      11.378634\n",
              "Undetermined (formerly 98)                                 10.201534\n",
              "Electrical Wiring Insulation                                6.750490\n",
              "Other                                                       6.643481\n",
              "Paper, Cardboard                                            3.736401\n",
              "Wood                                                        3.611557\n",
              "Plastic                                                     3.522383\n",
              "Interior Wall/Ceiling                                       3.459961\n",
              "Cabinetry                                                   3.058677\n",
              "Upholstered Sofa, Chair, etc.                               2.666310\n",
              "Mattress, Pillow                                            2.300696\n",
              "Insulation                                                  2.086677\n",
              "Other Soft Goods, Wearing Apparel                           2.059925\n",
              "Multiple Objects or Materials                               1.801320\n",
              "Vehicle                                                     1.729980\n",
              "Linen Other than Bedding                                    1.453540\n",
              "Books, Magazines, Newspapers                                1.391118\n",
              "Creosote (chimney, flue pipe)                               1.319779\n",
              "Exterior Roof Covering                                      1.266274\n",
              "Bedding                                                     1.239522\n",
              "Exterior Cladding                                           1.177100\n",
              "Other Building Component                                    1.087926\n",
              "Bush, Grass, Tree, Leaves, etc.                             1.061174\n",
              "Fabric - Synthetic, Combination                             1.016586\n",
              "Multiple diverse objects ignited                            1.007669\n",
              "Structural Member                                           0.963082\n",
              "Other Furniture                                             0.963082\n",
              "Floor                                                       0.900660\n",
              "Fabric - Natural (eg. cotton, wool, etc.)                   0.793651\n",
              "Curtain, Drapery                                            0.606385\n",
              "Rug, Carpet                                                 0.588550\n",
              "Propane                                                     0.535045\n",
              "Natural Gas                                                 0.490458\n",
              "Other Flammable, Combustible Liquid                         0.392367\n",
              "Agricultural Product - Grown (eg. straw, seeds, etc.)       0.392367\n",
              "Oily rags (inc. paint rags, etc)                            0.392367\n",
              "Other chemicals, materials not classified above             0.374532\n",
              "Gasoline                                                    0.347780\n",
              "Non-upholstered Chair, etc.                                 0.347780\n",
              "Asphalt, Tar Product                                        0.329945\n",
              "Wearing Apparel on a Person                                 0.294275\n",
              "Cleaning Supplies                                           0.294275\n",
              "Rubber, not classified above                                0.240770\n",
              "Other Gases                                                 0.205101\n",
              "Paint, varnish stored in container                          0.107009\n",
              "Nest                                                        0.098092\n",
              "Christmas Tree                                              0.080257\n",
              "Diesel Fuel/Fuel Oil                                        0.080257\n",
              "Alcohol (methanol)                                          0.062422\n",
              "Oxidizing material (inc bleach, peroxide)                   0.044587\n",
              "Agricultural Product - Other (eg pesticide, fertilizer)     0.044587\n",
              "Under Investigation                                         0.035670\n",
              "Pyrophoric metals                                           0.035670\n",
              "Name: Material_First_Ignited, dtype: float64"
            ]
          },
          "metadata": {},
          "execution_count": 36
        }
      ]
    },
    {
      "cell_type": "code",
      "source": [
        "# Now we will plot a graph for top values for it.\n",
        "plt.title('Material First Ignited')\n",
        "fire_df['Material_First_Ignited'].value_counts(normalize=True, ascending=True)[-7:].plot(kind='barh')\n",
        "plt.show()"
      ],
      "metadata": {
        "colab": {
          "base_uri": "https://localhost:8080/",
          "height": 281
        },
        "id": "bfRAUWf5Y0cf",
        "outputId": "f18cd357-163e-48e0-e1b4-b35467f87ca1"
      },
      "execution_count": 38,
      "outputs": [
        {
          "output_type": "display_data",
          "data": {
            "text/plain": [
              "<Figure size 432x288 with 1 Axes>"
            ],
            "image/png": "[encoded data removed]"
          },
          "metadata": {
            "needs_background": "light"
          }
        }
      ]
    },
    {
      "cell_type": "markdown",
      "source": [
        "This column also has lots of categories, so let's analyse in detail."
      ],
      "metadata": {
        "id": "zGiDED5SY1Zw"
      }
    },
    {
      "cell_type": "code",
      "source": [
        "with pd.option_context('display.max_rows', None, 'display.max_columns', None):\n",
        "    print(fire_df['Material_First_Ignited'].value_counts())"
      ],
      "metadata": {
        "colab": {
          "base_uri": "https://localhost:8080/"
        },
        "id": "q5ylxpIFYtS_",
        "outputId": "051e7b7b-eb6d-44ee-d8ea-b6c1aaaf296b"
      },
      "execution_count": 37,
      "outputs": [
        {
          "output_type": "stream",
          "name": "stdout",
          "text": [
            "Cooking Oil, Grease                                        1450\n",
            "Rubbish, Trash, Waste                                      1276\n",
            "Undetermined (formerly 98)                                 1144\n",
            "Electrical Wiring Insulation                                757\n",
            "Other                                                       745\n",
            "Paper, Cardboard                                            419\n",
            "Wood                                                        405\n",
            "Plastic                                                     395\n",
            "Interior Wall/Ceiling                                       388\n",
            "Cabinetry                                                   343\n",
            "Upholstered Sofa, Chair, etc.                               299\n",
            "Mattress, Pillow                                            258\n",
            "Insulation                                                  234\n",
            "Other Soft Goods, Wearing Apparel                           231\n",
            "Multiple Objects or Materials                               202\n",
            "Vehicle                                                     194\n",
            "Linen Other than Bedding                                    163\n",
            "Books, Magazines, Newspapers                                156\n",
            "Creosote (chimney, flue pipe)                               148\n",
            "Exterior Roof Covering                                      142\n",
            "Bedding                                                     139\n",
            "Exterior Cladding                                           132\n",
            "Other Building Component                                    122\n",
            "Bush, Grass, Tree, Leaves, etc.                             119\n",
            "Fabric - Synthetic, Combination                             114\n",
            "Multiple diverse objects ignited                            113\n",
            "Structural Member                                           108\n",
            "Other Furniture                                             108\n",
            "Floor                                                       101\n",
            "Fabric - Natural (eg. cotton, wool, etc.)                    89\n",
            "Curtain, Drapery                                             68\n",
            "Rug, Carpet                                                  66\n",
            "Propane                                                      60\n",
            "Natural Gas                                                  55\n",
            "Other Flammable, Combustible Liquid                          44\n",
            "Agricultural Product - Grown (eg. straw, seeds, etc.)        44\n",
            "Oily rags (inc. paint rags, etc)                             44\n",
            "Other chemicals, materials not classified above              42\n",
            "Gasoline                                                     39\n",
            "Non-upholstered Chair, etc.                                  39\n",
            "Asphalt, Tar Product                                         37\n",
            "Wearing Apparel on a Person                                  33\n",
            "Cleaning Supplies                                            33\n",
            "Rubber, not classified above                                 27\n",
            "Other Gases                                                  23\n",
            "Paint, varnish stored in container                           12\n",
            "Nest                                                         11\n",
            "Christmas Tree                                                9\n",
            "Diesel Fuel/Fuel Oil                                          9\n",
            "Alcohol (methanol)                                            7\n",
            "Oxidizing material (inc bleach, peroxide)                     5\n",
            "Agricultural Product - Other (eg pesticide, fertilizer)       5\n",
            "Under Investigation                                           4\n",
            "Pyrophoric metals                                             4\n",
            "Name: Material_First_Ignited, dtype: int64\n"
          ]
        }
      ]
    },
    {
      "cell_type": "code",
      "source": [
        "keep_material = ['Cooking Oil, Grease',\n",
        "                 'Rubbish, Trash, Waste',\n",
        "                 'Undetermined (formerly 98)',\n",
        "                 'Electrical Wiring Insulation',\n",
        "                 'Paper, Cardboard',\n",
        "                 'Wood',\n",
        "                 'Plastic',\n",
        "                 'Interior Wall/Ceiling',\n",
        "                 'Cabinetry',\n",
        "                 'Upholstered Sofa, Chair, etc.',\n",
        "                 'Mattress, Pillow',\n",
        "                 'Insulation',\n",
        "                 'Other Soft Goods, Wearing Apparel',\n",
        "                 'Multiple Objects or Materials',\n",
        "                 'Vehicle',\n",
        "                 'Linen Other than Bedding',\n",
        "                 'Books, Magazines, Newspapers',\n",
        "                 'Creosote (chimney, flue pipe)',\n",
        "                 'Exterior Roof Covering',\n",
        "                 'Bedding',\n",
        "                 'Exterior Cladding',\n",
        "                 'Other Building Component',\n",
        "                 'Bush, Grass, Tree, Leaves, etc.',\n",
        "                 'Fabric - Synthetic, Combination',\n",
        "                 'Multiple diverse objects ignited',\n",
        "                 'Structural Member',\n",
        "                 'Other Furniture',\n",
        "                 'Floor',\n",
        "                 'Fabric - Natural (eg. cotton, wool, etc.)']"
      ],
      "metadata": {
        "id": "RcSkV4BQdEp3"
      },
      "execution_count": 49,
      "outputs": []
    },
    {
      "cell_type": "code",
      "source": [
        "for i in fire_df['Material_First_Ignited']:\n",
        "    if i not in keep_material:\n",
        "        fire_df['Material_First_Ignited'] = np.where((fire_df.Material_First_Ignited == i), 'Other', fire_df.Material_First_Ignited)"
      ],
      "metadata": {
        "id": "JGyB3iPTdLZY"
      },
      "execution_count": 50,
      "outputs": []
    },
    {
      "cell_type": "code",
      "source": [
        "plt.title('Material First Ignited')\n",
        "fire_df['Material_First_Ignited'].value_counts(normalize=True, ascending=True).plot(kind='barh')\n",
        "plt.show()"
      ],
      "metadata": {
        "colab": {
          "base_uri": "https://localhost:8080/",
          "height": 281
        },
        "id": "Ln-98GVydUXE",
        "outputId": "fcb32334-4810-4cde-ef55-7e8f9105cf6c"
      },
      "execution_count": 51,
      "outputs": [
        {
          "output_type": "display_data",
          "data": {
            "text/plain": [
              "<Figure size 432x288 with 1 Axes>"
            ],
            "image/png": "[encoded data removed]"
          },
          "metadata": {
            "needs_background": "light"
          }
        }
      ]
    },
    {
      "cell_type": "code",
      "source": [
        "# Let's analyse extent of fire.\n",
        "fire_df['Extent_Of_Fire'].value_counts(normalize=True)*100"
      ],
      "metadata": {
        "colab": {
          "base_uri": "https://localhost:8080/"
        },
        "id": "krI-kw6uYxvP",
        "outputId": "6719ba6a-f868-4660-ccf3-38823e905db6"
      },
      "execution_count": 52,
      "outputs": [
        {
          "output_type": "execute_result",
          "data": {
            "text/plain": [
              "Confined to object of origin                                                    45.688041\n",
              "Confined to part of room/area of origin                                         36.422010\n",
              "Spread to entire room of origin                                                  4.289664\n",
              "Spread beyond room of origin, same floor                                         4.182645\n",
              "Confined to roof/exterior structure                                              3.050031\n",
              "Spread to other floors, confined to building                                     2.443592\n",
              "Spread beyond building of origin, resulted in exposure fire(s)                   1.070186\n",
              "Entire Structure                                                                 0.873986\n",
              "Undetermined                                                                     0.811558\n",
              "Spread beyond building of origin                                                 0.499420\n",
              "Multi unit bldg: spread beyond suite of origin but not to separated suite(s)     0.365647\n",
              "Multi unit bldg: spread to separate suite(s)                                     0.303219\n",
              "Name: Extent_Of_Fire, dtype: float64"
            ]
          },
          "metadata": {},
          "execution_count": 52
        }
      ]
    },
    {
      "cell_type": "code",
      "source": [
        "# Now we will plot a graph for top values for it.\n",
        "plt.title('Extent of Fire')\n",
        "fire_df['Extent_Of_Fire'].value_counts(normalize=True, ascending=True)[-7:].plot(kind='barh')\n",
        "plt.show()"
      ],
      "metadata": {
        "colab": {
          "base_uri": "https://localhost:8080/",
          "height": 281
        },
        "id": "0Gk4gDmQZCzP",
        "outputId": "114e5b8c-ad69-436d-dcea-19d1aa974ad0"
      },
      "execution_count": 53,
      "outputs": [
        {
          "output_type": "display_data",
          "data": {
            "text/plain": [
              "<Figure size 432x288 with 1 Axes>"
            ],
            "image/png": "[encoded data removed]"
          },
          "metadata": {
            "needs_background": "light"
          }
        }
      ]
    },
    {
      "cell_type": "markdown",
      "source": [
        "We see that '**confined to object/room of origin**' make up 82% of values.\n",
        "\n",
        "This means the extent of fire is confined to the area of origin most of the times. "
      ],
      "metadata": {
        "id": "ruioyGRvZZVM"
      }
    },
    {
      "cell_type": "markdown",
      "source": [
        "## **Let's Analyses the Fire Alarm System Condition before incident**"
      ],
      "metadata": {
        "id": "6MwKVOsEegG8"
      }
    },
    {
      "cell_type": "code",
      "source": [
        "# Let's analyse if Fire alarm system was present or not in accident area.\n",
        "fire_df['Fire_Alarm_System_Presence'].value_counts(normalize=True)*100"
      ],
      "metadata": {
        "colab": {
          "base_uri": "https://localhost:8080/"
        },
        "id": "DEBbfaBQca-5",
        "outputId": "06ffff52-8c76-4963-c8ee-6792cdcfe75f"
      },
      "execution_count": 56,
      "outputs": [
        {
          "output_type": "execute_result",
          "data": {
            "text/plain": [
              "Fire alarm system present                                                 55.426737\n",
              "Not applicable (bldg not classified by OBC OR detached/semi/town home)    17.319183\n",
              "No Fire alarm system                                                      15.999287\n",
              "Undetermined                                                              11.254794\n",
              "Name: Fire_Alarm_System_Presence, dtype: float64"
            ]
          },
          "metadata": {},
          "execution_count": 56
        }
      ]
    },
    {
      "cell_type": "code",
      "source": [
        "# Let's plot a graph for the same.\n",
        "plt.title('Fire alarm Presence')\n",
        "fire_df['Fire_Alarm_System_Presence'].value_counts(normalize=True, ascending=True).plot(kind='barh')\n",
        "plt.show()"
      ],
      "metadata": {
        "colab": {
          "base_uri": "https://localhost:8080/",
          "height": 281
        },
        "id": "9ahMN5NNcrun",
        "outputId": "614c6579-d0c6-406c-ac57-69d870020e50"
      },
      "execution_count": 57,
      "outputs": [
        {
          "output_type": "display_data",
          "data": {
            "text/plain": [
              "<Figure size 432x288 with 1 Axes>"
            ],
            "image/png": "[encoded data removed]"
          },
          "metadata": {
            "needs_background": "light"
          }
        }
      ]
    },
    {
      "cell_type": "markdown",
      "source": [
        "This shows 55% of the Fire alarm was present, however 43% of the times, it wasn't present."
      ],
      "metadata": {
        "id": "C88tv3Nsc44F"
      }
    },
    {
      "cell_type": "code",
      "source": [
        "# Let's analyse how many times the Fire alarm system worked during the accidents.\n",
        "fire_df['Fire_Alarm_System_Operation'].value_counts(normalize=True)*100"
      ],
      "metadata": {
        "colab": {
          "base_uri": "https://localhost:8080/"
        },
        "id": "0rsAOfqvaA8I",
        "outputId": "9d914c9d-c587-4ed5-c843-a67bbe926614"
      },
      "execution_count": 58,
      "outputs": [
        {
          "output_type": "execute_result",
          "data": {
            "text/plain": [
              "Fire alarm system operated                  40.310354\n",
              "Not applicable (no system)                  34.531348\n",
              "Fire alarm system operation undetermined    12.726300\n",
              "Fire alarm system did not operate           12.431999\n",
              "Name: Fire_Alarm_System_Operation, dtype: float64"
            ]
          },
          "metadata": {},
          "execution_count": 58
        }
      ]
    },
    {
      "cell_type": "code",
      "source": [
        "# Let's plot a graph for the same.\n",
        "plt.title('Fire alarm Operation')\n",
        "fire_df['Fire_Alarm_System_Operation'].value_counts(normalize=True, ascending=True).plot(kind='barh')\n",
        "plt.show()"
      ],
      "metadata": {
        "colab": {
          "base_uri": "https://localhost:8080/",
          "height": 281
        },
        "id": "YcC2XHYhazvE",
        "outputId": "47c68a50-c5eb-4a2d-a32c-373f24e40d77"
      },
      "execution_count": 59,
      "outputs": [
        {
          "output_type": "display_data",
          "data": {
            "text/plain": [
              "<Figure size 432x288 with 1 Axes>"
            ],
            "image/png": "[encoded data removed]"
          },
          "metadata": {
            "needs_background": "light"
          }
        }
      ]
    },
    {
      "cell_type": "markdown",
      "source": [
        "This shows Fire alarm system was present and operated for 40% of the cases. \n",
        "\n",
        "While it didn't operate for 12% of the time. \n",
        "\n",
        "Fire alarm wasn't present in 35% of the cases."
      ],
      "metadata": {
        "id": "vJ8WGi1SbF23"
      }
    },
    {
      "cell_type": "code",
      "source": [
        "# Let's analyse what impact did fire alarm had before fire broke into.\n",
        "fire_df['Fire_Alarm_System_Impact_on_Evacuation'].value_counts(normalize=True)*100"
      ],
      "metadata": {
        "colab": {
          "base_uri": "https://localhost:8080/"
        },
        "id": "E-lE7DnBafzN",
        "outputId": "c4a1a4a6-3ed2-4bbb-99e7-64b30da38e72"
      },
      "execution_count": 60,
      "outputs": [
        {
          "output_type": "execute_result",
          "data": {
            "text/plain": [
              "Not applicable: No fire alarm system, no persons present                              27.423526\n",
              "Not applicable: Occupant(s) first alerted by other means                              22.839561\n",
              "All persons (at risk of injury) evacuated as a result of hearing fire alarm system    17.970213\n",
              "Undetermined                                                                          14.358334\n",
              "Some persons (at risk) evacuated as a result of hearing fire alarm system             11.058593\n",
              "No one (at risk) evacuated as a result of hearing fire alarm system                    6.010880\n",
              "Fire Alarm system operated but failed to alert occupant(s)                             0.338892\n",
              "Name: Fire_Alarm_System_Impact_on_Evacuation, dtype: float64"
            ]
          },
          "metadata": {},
          "execution_count": 60
        }
      ]
    },
    {
      "cell_type": "code",
      "source": [
        "# Let's plot a graph for the same.\n",
        "plt.title('Fire Alarm system impact on evacuation')\n",
        "fire_df['Fire_Alarm_System_Impact_on_Evacuation'].value_counts(normalize=True, ascending=True).plot(kind='barh')\n",
        "plt.show()"
      ],
      "metadata": {
        "colab": {
          "base_uri": "https://localhost:8080/",
          "height": 281
        },
        "id": "2KSbWrdeaP-v",
        "outputId": "b934ca32-1013-4da3-8c04-1998c2ffe3c0"
      },
      "execution_count": 61,
      "outputs": [
        {
          "output_type": "display_data",
          "data": {
            "text/plain": [
              "<Figure size 432x288 with 1 Axes>"
            ],
            "image/png": "[encoded data removed]"
          },
          "metadata": {
            "needs_background": "light"
          }
        }
      ]
    },
    {
      "cell_type": "markdown",
      "source": [
        "This shows in 50% of the fire incidents, fire alarm wasn't present. "
      ],
      "metadata": {
        "id": "GPoJE5Gob91f"
      }
    },
    {
      "cell_type": "markdown",
      "source": [
        "It shows 22% of entries are 'Undetermined', the second most common value is the stove/range-top burner"
      ],
      "metadata": {
        "id": "0u4ixvWXddhU"
      }
    },
    {
      "cell_type": "code",
      "source": [
        "# Let's analyse what type of Smoke alarm was present.\n",
        "fire_df['Smoke_Alarm_at_Fire_Origin_Alarm_Type'].value_counts(normalize=True)*100"
      ],
      "metadata": {
        "colab": {
          "base_uri": "https://localhost:8080/"
        },
        "id": "z6WI-uwhfqBD",
        "outputId": "ae17eb8d-057c-46b0-ecc7-d3f86cc7a2f3"
      },
      "execution_count": 62,
      "outputs": [
        {
          "output_type": "execute_result",
          "data": {
            "text/plain": [
              "Not applicable - no smoke alarm or presence undetermined    22.910907\n",
              "Battery operated                                            21.225363\n",
              "Hardwired (standalone)                                      20.297869\n",
              "Interconnected                                              18.425042\n",
              "Type undetermined                                           16.926781\n",
              "Wireless                                                     0.214037\n",
              "Name: Smoke_Alarm_at_Fire_Origin_Alarm_Type, dtype: float64"
            ]
          },
          "metadata": {},
          "execution_count": 62
        }
      ]
    },
    {
      "cell_type": "code",
      "source": [
        "# Let's plot a graph for the same.\n",
        "plt.title('Smoke Alarm at Fire Origin Alarm Type')\n",
        "fire_df['Smoke_Alarm_at_Fire_Origin_Alarm_Type'].value_counts(normalize=True, ascending=True).plot(kind='barh')\n",
        "plt.show()"
      ],
      "metadata": {
        "colab": {
          "base_uri": "https://localhost:8080/",
          "height": 281
        },
        "id": "UxaHvrm6f3hL",
        "outputId": "8b383928-fafe-4895-90e9-51c7163ad455"
      },
      "execution_count": 63,
      "outputs": [
        {
          "output_type": "display_data",
          "data": {
            "text/plain": [
              "<Figure size 432x288 with 1 Axes>"
            ],
            "image/png": "[encoded data removed]"
          },
          "metadata": {
            "needs_background": "light"
          }
        }
      ]
    },
    {
      "cell_type": "code",
      "source": [
        "# Let's analyse if Smoke alarm worked or failed .\n",
        "fire_df['Smoke_Alarm_at_Fire_Origin_Alarm_Failure'].value_counts(normalize=True)*100"
      ],
      "metadata": {
        "id": "aje1COPVd-6B",
        "colab": {
          "base_uri": "https://localhost:8080/"
        },
        "outputId": "63a67229-adc7-415e-cacf-313b3a47987a"
      },
      "execution_count": 64,
      "outputs": [
        {
          "output_type": "execute_result",
          "data": {
            "text/plain": [
              "Not applicable: Alarm operated OR presence/operation undetermined    69.294569\n",
              "Remote from fire – smoke did not reach alarm                          9.925979\n",
              "Reason for inoperation undetermined                                   5.502542\n",
              "Other reason                                                          5.386605\n",
              "Separated from fire (e.g. wall, etc)                                  3.495942\n",
              "No battery                                                            1.667707\n",
              "Unit failure                                                          1.542852\n",
              "Dead battery                                                          1.346651\n",
              "Electrical line or battery not connected                              1.123696\n",
              "Improper installation of unit                                         0.401320\n",
              "Tampered with (vandalism)                                             0.312138\n",
              "Name: Smoke_Alarm_at_Fire_Origin_Alarm_Failure, dtype: float64"
            ]
          },
          "metadata": {},
          "execution_count": 64
        }
      ]
    },
    {
      "cell_type": "code",
      "source": [
        "# Let's plot a graph for the same.\n",
        "plt.title('Smoke Alarm at Fire Origin Alarm Worked or Failed')\n",
        "fire_df['Smoke_Alarm_at_Fire_Origin_Alarm_Failure'].value_counts(normalize=True, ascending=True).plot(kind='barh')\n",
        "plt.show()"
      ],
      "metadata": {
        "colab": {
          "base_uri": "https://localhost:8080/",
          "height": 281
        },
        "id": "xQzlYdO1gFiV",
        "outputId": "992f534d-2922-4b18-b7de-961614657b52"
      },
      "execution_count": 65,
      "outputs": [
        {
          "output_type": "display_data",
          "data": {
            "text/plain": [
              "<Figure size 432x288 with 1 Axes>"
            ],
            "image/png": "[encoded data removed]"
          },
          "metadata": {
            "needs_background": "light"
          }
        }
      ]
    },
    {
      "cell_type": "markdown",
      "source": [
        "## Let's analyse Loss of Life or Injuries caused due to Fire incidents."
      ],
      "metadata": {
        "id": "uQYKZY4ikeFr"
      }
    },
    {
      "cell_type": "code",
      "source": [
        "plt.title('Civilian casulties due to fire')\n",
        "sns.countplot(data=fire_df, x='Civilian_Casualties')\n",
        "plt.show()"
      ],
      "metadata": {
        "colab": {
          "base_uri": "https://localhost:8080/",
          "height": 296
        },
        "id": "sb68mKeBgUvd",
        "outputId": "7b40a46e-11ab-44ce-c8e9-c9ca34871dc1"
      },
      "execution_count": 68,
      "outputs": [
        {
          "output_type": "display_data",
          "data": {
            "text/plain": [
              "<Figure size 432x288 with 1 Axes>"
            ],
            "image/png": "[encoded data removed]"
          },
          "metadata": {
            "needs_background": "light"
          }
        }
      ]
    },
    {
      "cell_type": "markdown",
      "source": [
        "Since most data has a value of 0 the plots don't show the values very well. To show all the values the following plots exclude all 0 values."
      ],
      "metadata": {
        "id": "FUcl29gTlQL3"
      }
    },
    {
      "cell_type": "code",
      "source": [
        "plt.title('Civilian casulties due to fire Exclulding 0')\n",
        "casualties_nozero = fire_df[(fire_df.Civilian_Casualties > 0)]\n",
        "sns.countplot(data=casualties_nozero, x='Civilian_Casualties')\n",
        "plt.show()"
      ],
      "metadata": {
        "colab": {
          "base_uri": "https://localhost:8080/",
          "height": 296
        },
        "id": "jHCKPlnNk8zy",
        "outputId": "12b31d68-15c4-48f3-f52b-c5e6515f2d2f"
      },
      "execution_count": 69,
      "outputs": [
        {
          "output_type": "display_data",
          "data": {
            "text/plain": [
              "<Figure size 432x288 with 1 Axes>"
            ],
            "image/png": "[encoded data removed]"
          },
          "metadata": {
            "needs_background": "light"
          }
        }
      ]
    },
    {
      "cell_type": "code",
      "source": [
        "plt.title('Count of Persons rescued during to fire')\n",
        "sns.countplot(data=fire_df, x='Count_of_Persons_Rescued')\n",
        "plt.show()"
      ],
      "metadata": {
        "colab": {
          "base_uri": "https://localhost:8080/",
          "height": 296
        },
        "id": "Gc9B8D8Ekzln",
        "outputId": "6b4e170c-6bd0-4cc3-9641-43052fcd2759"
      },
      "execution_count": 70,
      "outputs": [
        {
          "output_type": "display_data",
          "data": {
            "text/plain": [
              "<Figure size 432x288 with 1 Axes>"
            ],
            "image/png": "[encoded data removed]"
          },
          "metadata": {
            "needs_background": "light"
          }
        }
      ]
    },
    {
      "cell_type": "markdown",
      "source": [
        "Since most data has a value of 0 the plots don't show the values very well. To show all the values the following plots exclude all 0 values."
      ],
      "metadata": {
        "id": "m9zVPWc0l2SR"
      }
    },
    {
      "cell_type": "code",
      "source": [
        "plt.title('Count of Persons rescued during to fire excluding 0')\n",
        "rescued_nozero = fire_df[(fire_df.Count_of_Persons_Rescued > 0)]\n",
        "sns.countplot(data=rescued_nozero, x='Count_of_Persons_Rescued')\n",
        "plt.show()"
      ],
      "metadata": {
        "colab": {
          "base_uri": "https://localhost:8080/",
          "height": 296
        },
        "id": "ZL1eidMrlfN6",
        "outputId": "2662d7eb-0b63-4cee-9848-382e48d5f873"
      },
      "execution_count": 71,
      "outputs": [
        {
          "output_type": "display_data",
          "data": {
            "text/plain": [
              "<Figure size 432x288 with 1 Axes>"
            ],
            "image/png": "[encoded data removed]"
          },
          "metadata": {
            "needs_background": "light"
          }
        }
      ]
    },
    {
      "cell_type": "code",
      "source": [
        "plt.title('Count of Persons displaced during to fire ')\n",
        "sns.stripplot(data=fire_df, x='Estimated_Number_Of_Persons_Displaced')\n",
        "plt.show()"
      ],
      "metadata": {
        "colab": {
          "base_uri": "https://localhost:8080/",
          "height": 296
        },
        "id": "uIRQS-fzl_IO",
        "outputId": "c56cf5c8-f513-4aff-fc97-7bb883f8b27e"
      },
      "execution_count": 73,
      "outputs": [
        {
          "output_type": "display_data",
          "data": {
            "text/plain": [
              "<Figure size 432x288 with 1 Axes>"
            ],
            "image/png": "[encoded data removed]"
          },
          "metadata": {
            "needs_background": "light"
          }
        }
      ]
    },
    {
      "cell_type": "code",
      "source": [
        "plt.title('Count of Persons displaced during to fire excluding 0')\n",
        "displaced_nozero = fire_df[(fire_df.Estimated_Number_Of_Persons_Displaced > 0)]\n",
        "sns.stripplot(data=displaced_nozero, x='Estimated_Number_Of_Persons_Displaced')\n",
        "plt.show()"
      ],
      "metadata": {
        "colab": {
          "base_uri": "https://localhost:8080/",
          "height": 296
        },
        "id": "btlKfphclw-y",
        "outputId": "05be3179-5484-4577-f0a7-db698e3f8acb"
      },
      "execution_count": 72,
      "outputs": [
        {
          "output_type": "display_data",
          "data": {
            "text/plain": [
              "<Figure size 432x288 with 1 Axes>"
            ],
            "image/png": "[encoded data removed]"
          },
          "metadata": {
            "needs_background": "light"
          }
        }
      ]
    },
    {
      "cell_type": "markdown",
      "source": [
        "In the persons displaced plot there seems to be a lot of values around 1000 while a majority of other values fall under 200, this is strange."
      ],
      "metadata": {
        "id": "6SoM7CDRnHuC"
      }
    },
    {
      "cell_type": "code",
      "source": [
        "len(fire_df[(fire_df.Estimated_Number_Of_Persons_Displaced > 900)])"
      ],
      "metadata": {
        "colab": {
          "base_uri": "https://localhost:8080/"
        },
        "id": "_UUtdzv0m1y_",
        "outputId": "b9079025-41aa-42c8-fa15-83ea17cd243d"
      },
      "execution_count": 74,
      "outputs": [
        {
          "output_type": "execute_result",
          "data": {
            "text/plain": [
              "157"
            ]
          },
          "metadata": {},
          "execution_count": 74
        }
      ]
    },
    {
      "cell_type": "markdown",
      "source": [
        "All of these values are exactly 997. there seems to be no relation between civilian casualties, persons rescued, dollar loss and persons displaced when persons displaced is 997, this value appears to be a placeholder or unknown category."
      ],
      "metadata": {
        "id": "tRc4x2MunaDn"
      }
    },
    {
      "cell_type": "code",
      "source": [
        "fire_df = fire_df[(fire_df.Estimated_Number_Of_Persons_Displaced < 900)]"
      ],
      "metadata": {
        "id": "u6_yz29snUs4"
      },
      "execution_count": 75,
      "outputs": []
    },
    {
      "cell_type": "code",
      "source": [
        "plt.title('Count of Persons displaced during to fire excluding 0')\n",
        "displaced_nozero = fire_df[(fire_df.Estimated_Number_Of_Persons_Displaced > 0)]\n",
        "sns.stripplot(data=displaced_nozero, x='Estimated_Number_Of_Persons_Displaced')\n",
        "plt.show()"
      ],
      "metadata": {
        "colab": {
          "base_uri": "https://localhost:8080/",
          "height": 296
        },
        "id": "xk870gd-nhwS",
        "outputId": "0e62eb2b-ecc3-4b8b-f4df-6eaa74b65fa8"
      },
      "execution_count": 76,
      "outputs": [
        {
          "output_type": "display_data",
          "data": {
            "text/plain": [
              "<Figure size 432x288 with 1 Axes>"
            ],
            "image/png": "[encoded data removed]"
          },
          "metadata": {
            "needs_background": "light"
          }
        }
      ]
    },
    {
      "cell_type": "code",
      "source": [],
      "metadata": {
        "id": "_7aqjItxnki9"
      },
      "execution_count": null,
      "outputs": []
    }
  ]
}